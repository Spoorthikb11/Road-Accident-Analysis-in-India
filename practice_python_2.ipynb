{
  "nbformat": 4,
  "nbformat_minor": 0,
  "metadata": {
    "colab": {
      "provenance": [],
      "authorship_tag": "ABX9TyOFFdZcNgMPzN1V6v8eNnkv",
      "include_colab_link": true
    },
    "kernelspec": {
      "name": "python3",
      "display_name": "Python 3"
    },
    "language_info": {
      "name": "python"
    }
  },
  "cells": [
    {
      "cell_type": "markdown",
      "metadata": {
        "id": "view-in-github",
        "colab_type": "text"
      },
      "source": [
        "<a href=\"https://colab.research.google.com/github/Spoorthikb11/Road-Accident-Analysis-in-India/blob/main/practice_python_2.ipynb\" target=\"_parent\"><img src=\"https://colab.research.google.com/assets/colab-badge.svg\" alt=\"Open In Colab\"/></a>"
      ]
    },
    {
      "cell_type": "code",
      "execution_count": 4,
      "metadata": {
        "colab": {
          "base_uri": "https://localhost:8080/"
        },
        "id": "OAurQF2a0KxD",
        "outputId": "049fc365-42d5-43a3-f3e1-f34f329d2499"
      },
      "outputs": [
        {
          "output_type": "stream",
          "name": "stdout",
          "text": [
            "Welcome to Hangman!\n",
            "Guess the word:\n",
            "\n",
            "Word: _ _ _ _ _\n",
            "Guessed letters: \n",
            "Remaining attempts: 6\n",
            "Enter a letter: o\n",
            "Correct guess!\n",
            "\n",
            "Word: _ _ o _ _\n",
            "Guessed letters: o\n",
            "Remaining attempts: 6\n",
            "Enter a letter: c\n",
            "Correct guess!\n",
            "\n",
            "Word: c _ o _ _\n",
            "Guessed letters: c, o\n",
            "Remaining attempts: 6\n",
            "Enter a letter: l\n",
            "Correct guess!\n",
            "\n",
            "Word: c l o _ _\n",
            "Guessed letters: c, l, o\n",
            "Remaining attempts: 6\n",
            "Enter a letter: u\n",
            "Correct guess!\n",
            "\n",
            "Word: c l o u _\n",
            "Guessed letters: c, l, o, u\n",
            "Remaining attempts: 6\n",
            "Enter a letter: d\n",
            "Correct guess!\n",
            "\n",
            "Congratulations! You guessed the word: cloud\n"
          ]
        }
      ],
      "source": [
        "#62. Hangman Game:\n",
        "import random\n",
        "words = ['python', 'hangman', 'challenge', 'programming', 'cloud', 'technology']\n",
        "\n",
        "# Choose a random word\n",
        "word = random.choice(words)\n",
        "guessed_letters = set()\n",
        "attempts = 6  # You can change the number of allowed incorrect guesses\n",
        "display = ['_' for _ in word]\n",
        "\n",
        "print(\"Welcome to Hangman!\")\n",
        "print(\"Guess the word:\")\n",
        "\n",
        "while attempts > 0 and '_' in display:\n",
        "    print(\"\\nWord:\", ' '.join(display))\n",
        "    print(f\"Guessed letters: {', '.join(sorted(guessed_letters))}\")\n",
        "    print(f\"Remaining attempts: {attempts}\")\n",
        "\n",
        "    guess = input(\"Enter a letter: \").lower()\n",
        "\n",
        "    if not guess.isalpha() or len(guess) != 1:\n",
        "        print(\"Please enter a single alphabetical character.\")\n",
        "        continue\n",
        "\n",
        "    if guess in guessed_letters:\n",
        "        print(\"You already guessed that letter.\")\n",
        "        continue\n",
        "\n",
        "    guessed_letters.add(guess)\n",
        "\n",
        "    if guess in word:\n",
        "        for i in range(len(word)):\n",
        "            if word[i] == guess:\n",
        "                display[i] = guess\n",
        "        print(\"Correct guess!\")\n",
        "    else:\n",
        "        attempts -= 1\n",
        "        print(\"Wrong guess.\")\n",
        "\n",
        "if '_' not in display:\n",
        "    print(\"\\nCongratulations! You guessed the word:\", word)\n",
        "else:\n",
        "    print(\"\\nGame over. The word was:\", word)\n",
        "\n"
      ]
    },
    {
      "cell_type": "code",
      "source": [
        "#63.Caesar Cipher: Encode and Decode Strings\n",
        "def caesar_cipher(text, shift, mode='encode'):\n",
        "    result = ''\n",
        "    if mode == 'decode':\n",
        "        shift = -shift\n",
        "\n",
        "    for char in text:\n",
        "        if char.isalpha():\n",
        "            base = ord('A') if char.isupper() else ord('a')\n",
        "            shifted = (ord(char) - base + shift) % 26 + base\n",
        "            result += chr(shifted)\n",
        "        else:\n",
        "            result += char  # Keep punctuation/space unchanged\n",
        "    return result\n",
        "\n",
        "# Example\n",
        "original = \"Hello World\"\n",
        "encoded = caesar_cipher(original, 3, mode='encode')\n",
        "decoded = caesar_cipher(encoded, 3, mode='decode')\n",
        "\n",
        "print(\"Original:\", original)\n",
        "print(\"Encoded :\", encoded)\n",
        "print(\"Decoded :\", decoded)\n"
      ],
      "metadata": {
        "colab": {
          "base_uri": "https://localhost:8080/"
        },
        "id": "lx12QKR-1VAx",
        "outputId": "8fa84160-744a-4045-9072-f690e5b1c5c9"
      },
      "execution_count": 5,
      "outputs": [
        {
          "output_type": "stream",
          "name": "stdout",
          "text": [
            "Original: Hello World\n",
            "Encoded : Khoor Zruog\n",
            "Decoded : Hello World\n"
          ]
        }
      ]
    },
    {
      "cell_type": "code",
      "source": [
        "#64. Shannon's Throbac: Roman Numeral Arithmetic Simulator\n",
        "roman_to_int = {\n",
        "    'I': 1, 'V': 5, 'X': 10, 'L': 50,\n",
        "    'C': 100, 'D': 500, 'M': 1000\n",
        "}\n",
        "\n",
        "def from_roman(s):\n",
        "    total = 0\n",
        "    prev = 0\n",
        "    for ch in reversed(s):\n",
        "        value = roman_to_int[ch]\n",
        "        if value < prev:\n",
        "            total -= value\n",
        "        else:\n",
        "            total += value\n",
        "        prev = value\n",
        "    return total\n",
        "\n",
        "def to_roman(num):\n",
        "    int_to_roman = [\n",
        "        (1000, 'M'), (900, 'CM'), (500, 'D'), (400, 'CD'),\n",
        "        (100, 'C'), (90, 'XC'), (50, 'L'), (40, 'XL'),\n",
        "        (10, 'X'), (9, 'IX'), (5, 'V'), (4, 'IV'), (1, 'I')\n",
        "    ]\n",
        "    result = ''\n",
        "    for value, symbol in int_to_roman:\n",
        "        while num >= value:\n",
        "            result += symbol\n",
        "            num -= value\n",
        "    return result\n",
        "r1 = \"XII\"\n",
        "r2 = \"VIII\"\n",
        "sum_result = from_roman(r1) + from_roman(r2)\n",
        "print(f\"{r1} + {r2} = {to_roman(sum_result)}\")\n"
      ],
      "metadata": {
        "colab": {
          "base_uri": "https://localhost:8080/"
        },
        "id": "_Yr1CmUE1bZ4",
        "outputId": "83cd5714-97dd-4291-9484-427359440255"
      },
      "execution_count": 6,
      "outputs": [
        {
          "output_type": "stream",
          "name": "stdout",
          "text": [
            "XII + VIII = XX\n"
          ]
        }
      ]
    },
    {
      "cell_type": "code",
      "source": [
        "#65. Rock Paper Scissors Game\n",
        "import random\n",
        "\n",
        "choices = ['rock', 'paper', 'scissors']\n",
        "\n",
        "def determine_winner(user, computer):\n",
        "    if user == computer:\n",
        "        return \"It's a tie!\"\n",
        "    elif (user == 'rock' and computer == 'scissors') or \\\n",
        "         (user == 'paper' and computer == 'rock') or \\\n",
        "         (user == 'scissors' and computer == 'paper'):\n",
        "        return \"You win!\"\n",
        "    else:\n",
        "        return \"Computer wins!\"\n",
        "\n",
        "# Game\n",
        "user_choice = input(\"Choose rock, paper, or scissors: \").lower()\n",
        "if user_choice not in choices:\n",
        "    print(\"Invalid input.\")\n",
        "else:\n",
        "    computer_choice = random.choice(choices)\n",
        "    print(\"Computer chose:\", computer_choice)\n",
        "    print(determine_winner(user_choice, computer_choice))\n",
        "\n",
        "\n"
      ],
      "metadata": {
        "colab": {
          "base_uri": "https://localhost:8080/"
        },
        "id": "Hf8AYCyc1cuO",
        "outputId": "4c4f4890-6ca6-48ac-e76d-3c6ca122981d"
      },
      "execution_count": 9,
      "outputs": [
        {
          "output_type": "stream",
          "name": "stdout",
          "text": [
            "Choose rock, paper, or scissors: scissors\n",
            "Computer chose: paper\n",
            "You win!\n"
          ]
        }
      ]
    },
    {
      "cell_type": "code",
      "source": [
        "#66. Scrambled Words\n",
        "import random\n",
        "\n",
        "# Function to scramble a word\n",
        "def scramble_word(word):\n",
        "    if len(word) <= 3:\n",
        "        return word\n",
        "    middle = list(word[1:-1])\n",
        "    random.shuffle(middle)\n",
        "    return word[0] + ''.join(middle) + word[-1]\n",
        "\n",
        "# Function to scramble a sentence\n",
        "def scramble_text(text):\n",
        "    words = text.split()\n",
        "    scrambled = []\n",
        "    for word in words:\n",
        "        stripped = word.strip('.,!?')\n",
        "        scrambled_word = scramble_word(stripped)\n",
        "        if word[-1] in '.,!?':\n",
        "            scrambled_word += word[-1]\n",
        "        scrambled.append(scrambled_word)\n",
        "    return ' '.join(scrambled)\n",
        "\n",
        "# Sample text\n",
        "sample_text = \"English university research shows that scrambled words can still be read.\"\n",
        "\n",
        "# Output the scrambled text\n",
        "print(\"Original :\", sample_text)\n",
        "print(\"Scrambled:\", scramble_text(sample_text))\n"
      ],
      "metadata": {
        "colab": {
          "base_uri": "https://localhost:8080/"
        },
        "id": "NLMxyk911mLs",
        "outputId": "5120df72-38cd-4e2a-da2f-1a603805b90d"
      },
      "execution_count": 25,
      "outputs": [
        {
          "output_type": "stream",
          "name": "stdout",
          "text": [
            "Original : English university research shows that scrambled words can still be read.\n",
            "Scrambled: Eilsgnh uviisernty rsraceeh shows taht sbcrmaeld wrods can slitl be raed.\n"
          ]
        }
      ]
    },
    {
      "cell_type": "code",
      "source": [
        "#67. Cracking a Caesar Cipher using Letter Frequency\n",
        "from collections import Counter\n",
        "\n",
        "# Function to decode Caesar cipher\n",
        "def decode_caesar(cipher_text, shift):\n",
        "    result = ''\n",
        "    for char in cipher_text:\n",
        "        if char.isalpha():\n",
        "            base = ord('A') if char.isupper() else ord('a')\n",
        "            result += chr((ord(char) - base - shift) % 26 + base)\n",
        "        else:\n",
        "            result += char\n",
        "    return result\n",
        "\n",
        "# Function to crack the Caesar cipher\n",
        "def crack_caesar(cipher_text):\n",
        "    freq = Counter(c for c in cipher_text.lower() if c.isalpha())\n",
        "    most_common = freq.most_common(1)[0][0]\n",
        "    likely_shift = (ord(most_common) - ord('e')) % 26\n",
        "    print(f\"Guessed shift: {likely_shift}\")\n",
        "    return decode_caesar(cipher_text, likely_shift)\n",
        "\n",
        "# Sample cipher text\n",
        "cipher = \"Wklv lv d vhfuhw phvvdjh.\"\n",
        "\n",
        "# Output the decrypted text\n",
        "print(\"Decrypted:\", crack_caesar(cipher))\n"
      ],
      "metadata": {
        "colab": {
          "base_uri": "https://localhost:8080/"
        },
        "id": "C6DawNal5QiH",
        "outputId": "499bda51-26e8-476b-b203-fcf825a070f3"
      },
      "execution_count": 26,
      "outputs": [
        {
          "output_type": "stream",
          "name": "stdout",
          "text": [
            "Guessed shift: 17\n",
            "Decrypted: Ftue ue m eqodqf yqeemsq.\n"
          ]
        }
      ]
    },
    {
      "cell_type": "code",
      "source": [
        "#68.Facebook: Suggest Facebook Friends\n",
        "import networkx as nx\n",
        "\n",
        "# Sample anonymized data: friends (edges between users)\n",
        "friends_data = [\n",
        "    ('User1', 'User2'),\n",
        "    ('User2', 'User3'),\n",
        "    ('User3', 'User4'),\n",
        "    ('User1', 'User4'),\n",
        "    ('User2', 'User5'),\n",
        "]\n",
        "G = nx.Graph()\n",
        "G.add_edges_from(friends_data)\n",
        ")\n",
        "user = 'User2'\n",
        "friends_of_user = list(G.neighbors(user))\n",
        "print(f\"Friends of {user}: {friends_of_user}\")\n",
        "\n",
        "suggestions = []\n",
        "for friend in friends_of_user:\n",
        "    for potential_friend in list(G.neighbors(friend)):\n",
        "        if potential_friend != user and potential_friend not in friends_of_user:\n",
        "            suggestions.append(potential_friend)\n",
        "\n",
        "print(f\"Friend suggestions for {user}: {suggestions}\")\n"
      ],
      "metadata": {
        "colab": {
          "base_uri": "https://localhost:8080/"
        },
        "id": "iDtZ1xjb5Yyg",
        "outputId": "264db9b5-b304-4fb2-cda1-00a6bab64f2a"
      },
      "execution_count": 27,
      "outputs": [
        {
          "output_type": "stream",
          "name": "stdout",
          "text": [
            "Friends of User2: ['User1', 'User3', 'User5']\n",
            "Friend suggestions for User2: ['User4', 'User4']\n"
          ]
        }
      ]
    },
    {
      "cell_type": "code",
      "source": [
        "#69.Baseball: List Players with Top Batting Averages\n",
        "import pandas as pd\n",
        "\n",
        "# Sample data for illustration\n",
        "data = {\n",
        "    'Player': ['Player1', 'Player2', 'Player3', 'Player4', 'Player5'],\n",
        "    'Batting_Average': [0.324, 0.342, 0.310, 0.280, 0.350]\n",
        "}\n",
        "\n",
        "df = pd.DataFrame(data)\n",
        "\n",
        "top_players = df.sort_values(by='Batting_Average', ascending=False).head(8)\n",
        "print(top_players[['Player', 'Batting_Average']])\n"
      ],
      "metadata": {
        "colab": {
          "base_uri": "https://localhost:8080/"
        },
        "id": "kvWOmi_T5bRu",
        "outputId": "831aab2f-2494-442d-afa9-ec2fb2f3ccf2"
      },
      "execution_count": 28,
      "outputs": [
        {
          "output_type": "stream",
          "name": "stdout",
          "text": [
            "    Player  Batting_Average\n",
            "4  Player5            0.350\n",
            "1  Player2            0.342\n",
            "0  Player1            0.324\n",
            "2  Player3            0.310\n",
            "3  Player4            0.280\n"
          ]
        }
      ]
    },
    {
      "cell_type": "code",
      "source": [
        "#70.Scrambled English: Scramble Words\n",
        "import random\n",
        "\n",
        "def scramble_word(word):\n",
        "    if len(word) <= 3:\n",
        "        return word\n",
        "    middle = list(word[1:-1])\n",
        "    random.shuffle(middle)\n",
        "    return word[0] + ''.join(middle) + word[-1]\n",
        "\n",
        "def scramble_text(text):\n",
        "    words = text.split()\n",
        "    return ' '.join([scramble_word(word) for word in words])\n",
        "sentence = \"The quick brown fox jumps over the lazy dog.\"\n",
        "print(\"Original:\", sentence)\n",
        "print(\"Scrambled:\", scramble_text(sentence))\n"
      ],
      "metadata": {
        "colab": {
          "base_uri": "https://localhost:8080/"
        },
        "id": "cH7miPal5ctA",
        "outputId": "ce017efa-50eb-45b0-ed5f-24f99a0bec42"
      },
      "execution_count": 29,
      "outputs": [
        {
          "output_type": "stream",
          "name": "stdout",
          "text": [
            "Original: The quick brown fox jumps over the lazy dog.\n",
            "Scrambled: The qucik bworn fox jumps oevr the lzay dog.\n"
          ]
        }
      ]
    },
    {
      "cell_type": "code",
      "source": [
        "#71.Basketball: Best NBA Player\n",
        "import requests\n",
        "from bs4 import BeautifulSoup\n",
        "\n",
        "url = \"https://www.basketball-reference.com/leagues/NBA_2021_per_game.html\"\n",
        "response = requests.get(url)\n",
        "\n",
        "soup = BeautifulSoup(response.text, 'html.parser')\n",
        "# Extract player names and stats from the table (for simplicity, just the first few players)\n",
        "players = []\n",
        "for row in soup.find_all('tr')[1:6]:\n",
        "    cols = row.find_all('td')\n",
        "    player = cols[1].text  # Player name\n",
        "    ppg = float(cols[26].text)  # Points per game\n",
        "    players.append((player, ppg))\n",
        "\n",
        "# Sort players by points per game\n",
        "players = sorted(players, key=lambda x: x[1], reverse=True)\n",
        "print(\"Best NBA Players based on points per game:\", players)\n"
      ],
      "metadata": {
        "colab": {
          "base_uri": "https://localhost:8080/"
        },
        "id": "cxm-OeO26g3-",
        "outputId": "3ff88fbf-a985-4fce-ee0a-b1761fdef720"
      },
      "execution_count": 30,
      "outputs": [
        {
          "output_type": "stream",
          "name": "stdout",
          "text": [
            "Best NBA Players based on points per game: [('32', 3.4), ('26', 3.4), ('27', 3.1), ('26', 3.1), ('30', 3.0)]\n"
          ]
        }
      ]
    },
    {
      "cell_type": "code",
      "source": [
        "#72.Latin: Search for Latin Roots, Suffixes, and Prefixes\n",
        "import re\n",
        "\n",
        "# Sample Latin word file\n",
        "latin_text = \"\"\"\n",
        "ab- away from (e.g., abnormal)\n",
        "ad- to, toward (e.g., adjust)\n",
        "-ology study of (e.g., biology)\n",
        "-phobia fear of (e.g., arachnophobia)\n",
        "\"\"\"\n",
        "\n",
        "# Search for roots, prefixes, and suffixes in the text\n",
        "pattern = r\"(\\w+-?[\\w]+)\"\n",
        "matches = re.findall(pattern, latin_text)\n",
        "\n",
        "print(\"Found Latin roots, suffixes, and prefixes:\", matches)\n"
      ],
      "metadata": {
        "colab": {
          "base_uri": "https://localhost:8080/"
        },
        "id": "mli0UAgO6irI",
        "outputId": "e9a3b863-7905-404c-ae78-3d7bc37045b2"
      },
      "execution_count": 32,
      "outputs": [
        {
          "output_type": "stream",
          "name": "stdout",
          "text": [
            "Found Latin roots, suffixes, and prefixes: ['ab', 'away', 'from', 'abnormal', 'ad', 'to', 'toward', 'adjust', 'ology', 'study', 'of', 'biology', 'phobia', 'fear', 'of', 'arachnophobia']\n"
          ]
        }
      ]
    },
    {
      "cell_type": "code",
      "source": [
        "#73.Anagrams: Find All Anagrams\n",
        "from collections import defaultdict\n",
        "\n",
        "# Sample word list\n",
        "word_list = [\"listen\", \"silent\", \"enlist\", \"rat\", \"tar\", \"art\"]\n",
        "\n",
        "# Function to find anagrams\n",
        "def find_anagrams(words):\n",
        "    anagrams = defaultdict(list)\n",
        "    for word in words:\n",
        "        sorted_word = ''.join(sorted(word))\n",
        "        anagrams[sorted_word].append(word)\n",
        "    return [group for group in anagrams.values() if len(group) > 1]\n",
        "\n",
        "# Finding anagrams in the word list\n",
        "anagram_groups = find_anagrams(word_list)\n",
        "print(\"Anagram groups:\", anagram_groups)\n"
      ],
      "metadata": {
        "colab": {
          "base_uri": "https://localhost:8080/"
        },
        "id": "EUq-0pAt6jsf",
        "outputId": "88e45822-f320-4a61-a9f7-9298e5c0c43c"
      },
      "execution_count": 33,
      "outputs": [
        {
          "output_type": "stream",
          "name": "stdout",
          "text": [
            "Anagram groups: [['listen', 'silent', 'enlist'], ['rat', 'tar', 'art']]\n"
          ]
        }
      ]
    },
    {
      "cell_type": "code",
      "source": [
        "#74.Data Mining: Google Stock Data\n",
        "import yfinance as yf\n",
        "\n",
        "# Fetch Google stock data (symbol: GOOGL)\n",
        "google_stock = yf.download('GOOGL', start='2020-01-01', end='2021-01-01')\n",
        "\n",
        "# Display the stock data\n",
        "print(google_stock.head())\n"
      ],
      "metadata": {
        "colab": {
          "base_uri": "https://localhost:8080/"
        },
        "id": "cEV2BgYL6kcq",
        "outputId": "dc9acd34-ce93-48ee-aaba-bc39ef6259f2"
      },
      "execution_count": 34,
      "outputs": [
        {
          "output_type": "stream",
          "name": "stdout",
          "text": [
            "YF.download() has changed argument auto_adjust default to True\n"
          ]
        },
        {
          "output_type": "stream",
          "name": "stderr",
          "text": [
            "\r[*********************100%***********************]  1 of 1 completed"
          ]
        },
        {
          "output_type": "stream",
          "name": "stdout",
          "text": [
            "Price           Close       High        Low       Open    Volume\n",
            "Ticker          GOOGL      GOOGL      GOOGL      GOOGL     GOOGL\n",
            "Date                                                            \n",
            "2020-01-02  68.108368  68.108368  67.004150  67.099694  27278000\n",
            "2020-01-03  67.752083  68.360677  67.045462  67.079304  23408000\n",
            "2020-01-06  69.557945  69.583321  67.228582  67.259926  46768000\n",
            "2020-01-07  69.423592  69.841098  69.246938  69.689821  34330000\n",
            "2020-01-08  69.917725  70.256604  69.300178  69.409154  35314000\n"
          ]
        },
        {
          "output_type": "stream",
          "name": "stderr",
          "text": [
            "\n"
          ]
        }
      ]
    },
    {
      "cell_type": "code",
      "source": [
        "#75.Query to Search Files Ignoring Stop Words\n",
        "import re\n",
        "\n",
        "def create_sample_file():\n",
        "    with open(\"sample.txt\", \"w\") as f:\n",
        "        f.write(\"\"\"This is a sample text file.\n",
        "        It contains data for testing the search function.\n",
        "        Python is powerful and fun.\n",
        "        Searching files in Python is easy.\n",
        "        Machine learning is part of data science.\n",
        "        The quick brown fox jumps over the lazy dog.\"\"\")\n",
        "\n",
        "def search_files(query, file_name):\n",
        "    # Define a list of stop words\n",
        "    stop_words = set([\"a\", \"an\", \"the\", \"in\", \"on\", \"and\", \"of\", \"to\", \"is\", \"are\"])\n",
        "\n",
        "    # Remove stop words from the query\n",
        "    query_words = [word.lower() for word in query.split() if word.lower() not in stop_words]\n",
        "\n",
        "    # Read file and search\n",
        "    with open(file_name, 'r') as file:\n",
        "        content = file.read()\n",
        "        matches = [\n",
        "            line.strip() for line in content.splitlines()\n",
        "            if any(word in line.lower() for word in query_words)\n",
        "        ]\n",
        "\n",
        "    return matches\n",
        "\n",
        "# Create a sample file to test\n",
        "create_sample_file()\n",
        "results = search_files(\"search data in file\", \"sample.txt\")\n",
        "print(\"Matching lines:\")\n",
        "for line in results:\n",
        "    print(\"-\", line)\n"
      ],
      "metadata": {
        "colab": {
          "base_uri": "https://localhost:8080/"
        },
        "id": "VxrZSE8q6mk1",
        "outputId": "99a53b12-cbad-41a6-bf59-a8646c620dbf"
      },
      "execution_count": 38,
      "outputs": [
        {
          "output_type": "stream",
          "name": "stdout",
          "text": [
            "Matching lines:\n",
            "- This is a sample text file.\n",
            "- It contains data for testing the search function.\n",
            "- Searching files in Python is easy.\n",
            "- Machine learning is part of data science.\n"
          ]
        }
      ]
    },
    {
      "cell_type": "code",
      "source": [
        "#76.Calculate Return on Equity (ROE)\n",
        "def calculate_roe(net_income, equity):\n",
        "    return (net_income / equity) * 100\n",
        "\n",
        "# Sample data\n",
        "net_income = 50000\n",
        "equity = 250000\n",
        "\n",
        "roe = calculate_roe(net_income, equity)\n",
        "print(f\"Return on Equity (ROE): {roe}%\")\n"
      ],
      "metadata": {
        "colab": {
          "base_uri": "https://localhost:8080/"
        },
        "id": "cEnyQShu7bx3",
        "outputId": "8376c12c-54a7-4029-de61-27d16ae234df"
      },
      "execution_count": 39,
      "outputs": [
        {
          "output_type": "stream",
          "name": "stdout",
          "text": [
            "Return on Equity (ROE): 20.0%\n"
          ]
        }
      ]
    },
    {
      "cell_type": "code",
      "source": [
        "#77.Pascal's Triangle\n",
        "def generate_pascals_triangle(depth):\n",
        "    triangle = [[1]]\n",
        "    for i in range(1, depth):\n",
        "        row = [1]\n",
        "        for j in range(1, i):\n",
        "            row.append(triangle[i-1][j-1] + triangle[i-1][j])\n",
        "        row.append(1)\n",
        "        triangle.append(row)\n",
        "    return triangle\n",
        "triangle = generate_pascals_triangle(5)\n",
        "for row in triangle:\n",
        "    print(row)\n"
      ],
      "metadata": {
        "colab": {
          "base_uri": "https://localhost:8080/"
        },
        "id": "QvsRYrjr7d7P",
        "outputId": "7984aa53-be3d-429b-ae1c-404eb1eacdd6"
      },
      "execution_count": 40,
      "outputs": [
        {
          "output_type": "stream",
          "name": "stdout",
          "text": [
            "[1]\n",
            "[1, 1]\n",
            "[1, 2, 1]\n",
            "[1, 3, 3, 1]\n",
            "[1, 4, 6, 4, 1]\n"
          ]
        }
      ]
    },
    {
      "cell_type": "code",
      "source": [
        "#78. Auto Mileage and Linear Regression\n",
        "import numpy as np\n",
        "import matplotlib.pyplot as plt\n",
        "from sklearn.linear_model import LinearRegression\n",
        "engine_size = np.array([1.0, 1.5, 2.0, 2.5, 3.0]).reshape(-1, 1)\n",
        "mileage = np.array([30, 28, 24, 20, 18])\n",
        "model = LinearRegression()\n",
        "model.fit(engine_size, mileage)\n",
        "predicted_mileage = model.predict(engine_size)\n",
        "\n",
        "plt.scatter(engine_size, mileage, color='blue')\n",
        "plt.plot(engine_size, predicted_mileage, color='red')\n",
        "plt.xlabel('Engine Size')\n",
        "plt.ylabel('Mileage')\n",
        "plt.title('Engine Size vs Mileage')\n",
        "plt.show()\n"
      ],
      "metadata": {
        "colab": {
          "base_uri": "https://localhost:8080/",
          "height": 472
        },
        "id": "WeKShedr7e8S",
        "outputId": "65be4ca9-6ce0-4fb4-bdbf-eb2377d41aad"
      },
      "execution_count": 41,
      "outputs": [
        {
          "output_type": "display_data",
          "data": {
            "text/plain": [
              "<Figure size 640x480 with 1 Axes>"
            ],
            "image/png": "[encoded data removed]"
          },
          "metadata": {}
        }
      ]
    },
    {
      "cell_type": "code",
      "source": [
        "#79. Packaging: Minimize Cardboard Use\n",
        "def calculate_box_area(dimensions):\n",
        "    length, width, height = dimensions\n",
        "    return 2 * (length * width + length * height + width * height)\n",
        "\n",
        "# Example dimensions for each glass (length, width, height)\n",
        "glass_dimensions = [(5, 5, 10), (6, 6, 12), (7, 7, 14)]\n",
        "\n",
        "# Calculate the total cardboard area required\n",
        "total_area = sum(calculate_box_area(dim) for dim in glass_dimensions)\n",
        "print(f\"Total cardboard area: {total_area} square units\")\n"
      ],
      "metadata": {
        "colab": {
          "base_uri": "https://localhost:8080/"
        },
        "id": "6PRlnyS07gkH",
        "outputId": "46920218-723d-41db-a1ba-e53b1f94309d"
      },
      "execution_count": 42,
      "outputs": [
        {
          "output_type": "stream",
          "name": "stdout",
          "text": [
            "Total cardboard area: 1100 square units\n"
          ]
        }
      ]
    },
    {
      "cell_type": "code",
      "source": [
        "#80.GDP and Income: Who are the 1%?\n",
        "import pandas as pd\n",
        "data = {\n",
        "    'Country': ['USA', 'India', 'Germany', 'Brazil', 'Canada'],\n",
        "    'GDP_per_capita': [65000, 2100, 48000, 9000, 52000],\n",
        "    'Income': [72000, 2200, 49000, 9500, 53000]\n",
        "}\n",
        "\n",
        "df = pd.DataFrame(data)\n",
        "df['Top1%'] = df['Income'] >= df['Income'].quantile(0.99)\n",
        "print(\"GDP and Income Data:\\n\", df)\n"
      ],
      "metadata": {
        "colab": {
          "base_uri": "https://localhost:8080/"
        },
        "id": "m8Ktz4E67hZM",
        "outputId": "d58f9914-83fb-4a22-e2b7-a2ab2ab20834"
      },
      "execution_count": 43,
      "outputs": [
        {
          "output_type": "stream",
          "name": "stdout",
          "text": [
            "GDP and Income Data:\n",
            "    Country  GDP_per_capita  Income  Top1%\n",
            "0      USA           65000   72000   True\n",
            "1    India            2100    2200  False\n",
            "2  Germany           48000   49000  False\n",
            "3   Brazil            9000    9500  False\n",
            "4   Canada           52000   53000  False\n"
          ]
        }
      ]
    },
    {
      "cell_type": "code",
      "source": [
        "#81.Co-Occurrence: Build Dictionaries of Sets\n",
        "words = [\"apple banana\", \"banana cherry\", \"apple cherry\", \"apple banana cherry\"]\n",
        "co_occurrence = {}\n",
        "\n",
        "for sentence in words:\n",
        "    tokens = sentence.split()\n",
        "    for word in tokens:\n",
        "        if word not in co_occurrence:\n",
        "            co_occurrence[word] = set()\n",
        "        co_occurrence[word].update(w for w in tokens if w != word)\n",
        "\n",
        "print(\"Co-Occurrence Dictionary:\")\n",
        "for word, co_words in co_occurrence.items():\n",
        "    print(f\"{word}: {co_words}\")\n",
        "\n"
      ],
      "metadata": {
        "colab": {
          "base_uri": "https://localhost:8080/"
        },
        "id": "XxkTXvUq8X7f",
        "outputId": "74de408a-ac81-4019-89fc-cec7fc1f59cc"
      },
      "execution_count": 44,
      "outputs": [
        {
          "output_type": "stream",
          "name": "stdout",
          "text": [
            "Co-Occurrence Dictionary:\n",
            "apple: {'banana', 'cherry'}\n",
            "banana: {'cherry', 'apple'}\n",
            "cherry: {'banana', 'apple'}\n"
          ]
        }
      ]
    },
    {
      "cell_type": "code",
      "source": [
        "#82.Document Retrieval System\n",
        "documents = [\n",
        "    \"Python is a programming language\",\n",
        "    \"Machine learning is part of AI\",\n",
        "    \"Natural Language Processing deals with text\"\n",
        "]\n",
        "\n",
        "def search_documents(query):\n",
        "    return [doc for doc in documents if query.lower() in doc.lower()]\n",
        "\n",
        "# Example\n",
        "print(\"Search results for 'python':\", search_documents(\"python\"))\n"
      ],
      "metadata": {
        "colab": {
          "base_uri": "https://localhost:8080/"
        },
        "id": "FOw9ATbP8ZHu",
        "outputId": "a0a1dcff-0633-4f5b-92b4-7d40b71a733a"
      },
      "execution_count": 45,
      "outputs": [
        {
          "output_type": "stream",
          "name": "stdout",
          "text": [
            "Search results for 'python': ['Python is a programming language']\n"
          ]
        }
      ]
    },
    {
      "cell_type": "code",
      "source": [
        "#83.Wikipedia Log Parser\n",
        "logs = [\n",
        "    \"UserA edited Article1\",\n",
        "    \"UserB edited Article2\",\n",
        "    \"UserA edited Article3\",\n",
        "    \"UserB edited Article2\",\n",
        "    \"UserA edited Article1\"\n",
        "]\n",
        "\n",
        "from collections import defaultdict\n",
        "edit_count = defaultdict(int)\n",
        "for log in logs:\n",
        "    user = log.split()[0]\n",
        "    edit_count[user] += 1\n",
        "print(\"User who edited most articles:\", max(edit_count, key=edit_count.get))\n"
      ],
      "metadata": {
        "colab": {
          "base_uri": "https://localhost:8080/"
        },
        "id": "5RFxMBqB8bPp",
        "outputId": "7d27fbf9-937d-417b-ee52-aaf7c8868a1f"
      },
      "execution_count": 46,
      "outputs": [
        {
          "output_type": "stream",
          "name": "stdout",
          "text": [
            "User who edited most articles: UserA\n"
          ]
        }
      ]
    },
    {
      "cell_type": "code",
      "source": [
        "#84.TagCloud2\n",
        "text = \"America economy jobs America tax healthcare economy policy debate\"\n",
        "words = text.lower().split()\n",
        "freq = {}\n",
        "for word in words:\n",
        "    freq[word] = freq.get(word, 0) + 1\n",
        "print(\"Word Frequencies (Tag Cloud):\")\n",
        "for word, count in freq.items():\n",
        "    print(f\"{word}: {count}\")\n"
      ],
      "metadata": {
        "colab": {
          "base_uri": "https://localhost:8080/"
        },
        "id": "Fdfsrums8cOQ",
        "outputId": "648ad817-4459-48c0-bbca-a8bb54c3a777"
      },
      "execution_count": 47,
      "outputs": [
        {
          "output_type": "stream",
          "name": "stdout",
          "text": [
            "Word Frequencies (Tag Cloud):\n",
            "america: 2\n",
            "economy: 2\n",
            "jobs: 1\n",
            "tax: 1\n",
            "healthcare: 1\n",
            "policy: 1\n",
            "debate: 1\n"
          ]
        }
      ]
    },
    {
      "cell_type": "code",
      "source": [
        "#85.Word Completion\n",
        "dictionary = ['apple', 'application', 'apply', 'banana', 'band', 'cat']\n",
        "def complete_word(prefix):\n",
        "    return [word for word in dictionary if word.startswith(prefix)]\n",
        "print(\"Word completions for 'app':\", complete_word(\"app\"))\n"
      ],
      "metadata": {
        "colab": {
          "base_uri": "https://localhost:8080/"
        },
        "id": "BPdRcvZl8eIh",
        "outputId": "0040ff6d-a689-4b43-894b-bdcfedc26a60"
      },
      "execution_count": 48,
      "outputs": [
        {
          "output_type": "stream",
          "name": "stdout",
          "text": [
            "Word completions for 'app': ['apple', 'application', 'apply']\n"
          ]
        }
      ]
    },
    {
      "cell_type": "code",
      "source": [
        "#86. TagCloud: VP Debate\n",
        "debate_text = \"\"\"\n",
        "We need a strong economy and good policies. Policies matter for families, small businesses, and national growth.\n",
        "\"\"\"\n",
        "from collections import Counter\n",
        "words = debate_text.lower().split()\n",
        "word_counts = Counter(words)\n",
        "print(\"Tag Cloud Word Frequencies:\")\n",
        "for word, count in word_counts.items():\n",
        "    print(f\"{word}: {count}\")\n"
      ],
      "metadata": {
        "colab": {
          "base_uri": "https://localhost:8080/"
        },
        "id": "r4Ri7lht9fa7",
        "outputId": "19ceb9e6-f18c-4b55-e66e-1e49ee7a890b"
      },
      "execution_count": 49,
      "outputs": [
        {
          "output_type": "stream",
          "name": "stdout",
          "text": [
            "Tag Cloud Word Frequencies:\n",
            "we: 1\n",
            "need: 1\n",
            "a: 1\n",
            "strong: 1\n",
            "economy: 1\n",
            "and: 2\n",
            "good: 1\n",
            "policies.: 1\n",
            "policies: 1\n",
            "matter: 1\n",
            "for: 1\n",
            "families,: 1\n",
            "small: 1\n",
            "businesses,: 1\n",
            "national: 1\n",
            "growth.: 1\n"
          ]
        }
      ]
    },
    {
      "cell_type": "code",
      "source": [
        "#87. BMI Analysis with Regression and Plot\n",
        "import pandas as pd\n",
        "import numpy as np\n",
        "import matplotlib.pyplot as plt\n",
        "from scipy.stats import linregress\n",
        "\n",
        "# Sample data\n",
        "data = {\n",
        "    'Height_cm': [160, 170, 180, 150, 175],\n",
        "    'Weight_kg': [50, 65, 80, 45, 70]\n",
        "}\n",
        "df = pd.DataFrame(data)\n",
        "df['Height_m'] = df['Height_cm'] / 100\n",
        "df['BMI'] = df['Weight_kg'] / (df['Height_m'] ** 2)\n",
        "\n",
        "# Linear Regression\n",
        "slope, intercept, r_value, _, _ = linregress(df['Height_cm'], df['BMI'])\n",
        "\n",
        "# Plot\n",
        "plt.scatter(df['Height_cm'], df['BMI'], label='BMI data')\n",
        "plt.plot(df['Height_cm'], slope * df['Height_cm'] + intercept, color='red', label='Regression Line')\n",
        "plt.xlabel(\"Height (cm)\")\n",
        "plt.ylabel(\"BMI\")\n",
        "plt.title(\"BMI vs Height\")\n",
        "plt.legend()\n",
        "plt.grid(True)\n",
        "plt.show()\n",
        "\n",
        "print(\"Correlation:\", r_value)\n",
        "\n"
      ],
      "metadata": {
        "colab": {
          "base_uri": "https://localhost:8080/",
          "height": 489
        },
        "id": "FH20raLA9gu2",
        "outputId": "db6cc962-8aad-44f9-d155-22bf5351b1f4"
      },
      "execution_count": 50,
      "outputs": [
        {
          "output_type": "display_data",
          "data": {
            "text/plain": [
              "<Figure size 640x480 with 1 Axes>"
            ],
            "image/png": "[encoded data removed]"
          },
          "metadata": {}
        },
        {
          "output_type": "stream",
          "name": "stdout",
          "text": [
            "Correlation: 0.9187971433957833\n"
          ]
        }
      ]
    },
    {
      "cell_type": "code",
      "source": [
        "#88. SpellCheck with Suggestions\n",
        "import difflib\n",
        "\n",
        "dictionary = [\"apple\", \"banana\", \"orange\", \"grape\", \"pineapple\"]\n",
        "\n",
        "def spell_check(word):\n",
        "    if word in dictionary:\n",
        "        return f\"'{word}' is spelled correctly.\"\n",
        "    else:\n",
        "        suggestions = difflib.get_close_matches(word, dictionary)\n",
        "        return f\"'{word}' is incorrect. Suggestions: {suggestions}\"\n",
        "\n",
        "# Example\n",
        "print(spell_check(\"appl\"))\n"
      ],
      "metadata": {
        "colab": {
          "base_uri": "https://localhost:8080/"
        },
        "id": "78wsX-2Y9h4F",
        "outputId": "6acb94a9-b404-4dae-fc8d-e76e29dc36df"
      },
      "execution_count": 51,
      "outputs": [
        {
          "output_type": "stream",
          "name": "stdout",
          "text": [
            "'appl' is incorrect. Suggestions: ['apple', 'pineapple']\n"
          ]
        }
      ]
    },
    {
      "cell_type": "code",
      "source": [
        "#89. Natural Language Processing I: Unigrams and Bigrams\n",
        "text = \"the quick brown fox jumps over the lazy dog\"\n",
        "words = text.lower().split()\n",
        "unigrams = words\n",
        "bigrams = list(zip(words, words[1:]))\n",
        "\n",
        "print(\"Unigrams:\", unigrams)\n",
        "print(\"Bigrams:\", bigrams)\n",
        "\n",
        "\n"
      ],
      "metadata": {
        "colab": {
          "base_uri": "https://localhost:8080/"
        },
        "id": "jxoqd4yX9i1D",
        "outputId": "30e1990a-eeb9-4ef6-de50-691d0772c0f8"
      },
      "execution_count": 52,
      "outputs": [
        {
          "output_type": "stream",
          "name": "stdout",
          "text": [
            "Unigrams: ['the', 'quick', 'brown', 'fox', 'jumps', 'over', 'the', 'lazy', 'dog']\n",
            "Bigrams: [('the', 'quick'), ('quick', 'brown'), ('brown', 'fox'), ('fox', 'jumps'), ('jumps', 'over'), ('over', 'the'), ('the', 'lazy'), ('lazy', 'dog')]\n"
          ]
        }
      ]
    },
    {
      "cell_type": "code",
      "source": [
        "#90.Natural Language Processing II: Markov Chains\n",
        "import random\n",
        "\n",
        "text = \"I love coding and coding is fun and fun is good\"\n",
        "words = text.split()\n",
        "\n",
        "# Build Markov Chain\n",
        "markov_chain = {}\n",
        "for i in range(len(words) - 1):\n",
        "    word, next_word = words[i], words[i+1]\n",
        "    if word not in markov_chain:\n",
        "        markov_chain[word] = []\n",
        "    markov_chain[word].append(next_word)\n",
        "\n",
        "# Generate text\n",
        "word = \"coding\"\n",
        "generated = [word]\n",
        "for _ in range(10):\n",
        "    next_words = markov_chain.get(word)\n",
        "    if not next_words:\n",
        "        break\n",
        "    word = random.choice(next_words)\n",
        "    generated.append(word)\n",
        "\n",
        "print(\"Generated text:\", ' '.join(generated))\n",
        "\n",
        "\n",
        "\n",
        "\n"
      ],
      "metadata": {
        "colab": {
          "base_uri": "https://localhost:8080/"
        },
        "id": "KGpmbj1a9j2j",
        "outputId": "67a3150c-5b9e-445a-b026-d95f4b31c43f"
      },
      "execution_count": 53,
      "outputs": [
        {
          "output_type": "stream",
          "name": "stdout",
          "text": [
            "Generated text: coding and coding and fun is good\n"
          ]
        }
      ]
    },
    {
      "cell_type": "code",
      "source": [
        "#91.Vocabulary Quiz\n",
        "quiz = {\n",
        "    \"benevolent\": \"well meaning and kindly\",\n",
        "    \"candid\": \"truthful and straightforward\",\n",
        "    \"diligent\": \"showing care in work\"\n",
        "}\n",
        "for word, definition in quiz.items():\n",
        "    answer = input(f\"What does '{word}' mean? \")\n",
        "    print(\"Correct!\" if answer.lower() in definition.lower() else f\"Wrong. Answer: {definition}\")\n"
      ],
      "metadata": {
        "colab": {
          "base_uri": "https://localhost:8080/"
        },
        "id": "vwR91OTt-nZ7",
        "outputId": "ff92c2c8-69c0-4ff1-8fa6-001653f10b1e"
      },
      "execution_count": 54,
      "outputs": [
        {
          "output_type": "stream",
          "name": "stdout",
          "text": [
            "What does 'benevolent' mean?  well meaning and kindly\n",
            "Wrong. Answer: well meaning and kindly\n",
            "What does 'candid' mean? truthful and straightforward\n",
            "Correct!\n",
            "What does 'diligent' mean? showing care in work\n",
            "Correct!\n"
          ]
        }
      ]
    },
    {
      "cell_type": "code",
      "source": [
        "#92. Concordance Builder\n",
        "text = \"the cat and the dog ran and the dog barked\"\n",
        "words = text.split()\n",
        "concordance = {}\n",
        "for index, word in enumerate(words):\n",
        "    if word not in concordance:\n",
        "        concordance[word] = []\n",
        "    concordance[word].append(index)\n",
        "print(\"Concordance:\")\n",
        "for word, indices in concordance.items():\n",
        "    print(f\"{word}: {indices}\")\n"
      ],
      "metadata": {
        "colab": {
          "base_uri": "https://localhost:8080/"
        },
        "id": "zXvng5of-5vR",
        "outputId": "91069255-74fd-49ab-fcc8-a1574a141108"
      },
      "execution_count": 55,
      "outputs": [
        {
          "output_type": "stream",
          "name": "stdout",
          "text": [
            "Concordance:\n",
            "the: [0, 3, 7]\n",
            "cat: [1]\n",
            "and: [2, 6]\n",
            "dog: [4, 8]\n",
            "ran: [5]\n",
            "barked: [9]\n"
          ]
        }
      ]
    },
    {
      "cell_type": "code",
      "source": [
        "#93.Flags\n",
        "import matplotlib.pyplot as plt\n",
        "import matplotlib.patches as patches\n",
        "\n",
        "class SimpleFlag:\n",
        "    def draw(self):\n",
        "        fig, ax = plt.subplots()\n",
        "        # Background rectangle (white)\n",
        "        ax.add_patch(patches.Rectangle((0, 0), 6, 4, facecolor='white'))\n",
        "        for i in range(7):\n",
        "            ax.add_patch(patches.Rectangle((0, i * 0.57), 6, 0.28, facecolor='red'))\n",
        "        ax.add_patch(patches.Rectangle((0, 2.4), 2.4, 1.6, facecolor='blue'))\n",
        "\n",
        "        plt.xlim(0, 6)\n",
        "        plt.ylim(0, 4)\n",
        "        plt.axis('off')\n",
        "        plt.gca().set_aspect('equal', adjustable='box')\n",
        "        plt.title(\"Simple American Flag Style\")\n",
        "        plt.show()\n",
        "\n",
        "flag = SimpleFlag()\n",
        "flag.draw()\n"
      ],
      "metadata": {
        "colab": {
          "base_uri": "https://localhost:8080/",
          "height": 389
        },
        "id": "902VVy95-60B",
        "outputId": "eefaf373-9c0f-4d2c-a631-7ffb4ef57a15"
      },
      "execution_count": 56,
      "outputs": [
        {
          "output_type": "display_data",
          "data": {
            "text/plain": [
              "<Figure size 640x480 with 1 Axes>"
            ],
            "image/png": "[encoded data removed]"
          },
          "metadata": {}
        }
      ]
    },
    {
      "cell_type": "code",
      "source": [
        "#94. Quadrilaterals\n",
        "class Quadrilateral:\n",
        "    def __init__(self, side1, side2, side3, side4):\n",
        "        self.sides = [side1, side2, side3, side4]\n",
        "\n",
        "    def perimeter(self):\n",
        "        return sum(self.sides)\n",
        "\n",
        "quad = Quadrilateral(4, 5, 4, 5)\n",
        "print(\"Perimeter of quadrilateral:\", quad.perimeter())\n"
      ],
      "metadata": {
        "colab": {
          "base_uri": "https://localhost:8080/"
        },
        "id": "YXRiFBdG-7SY",
        "outputId": "151c15a7-6c12-4cd4-f072-3ee00f60d103"
      },
      "execution_count": 57,
      "outputs": [
        {
          "output_type": "stream",
          "name": "stdout",
          "text": [
            "Perimeter of quadrilateral: 18\n"
          ]
        }
      ]
    },
    {
      "cell_type": "code",
      "source": [
        "#95.Face Drawing Program\n",
        "import matplotlib.pyplot as plt\n",
        "import matplotlib.patches as patches  # <- important!\n",
        "class Eye:\n",
        "    def draw(self, ax, x, y):\n",
        "        eye = plt.Circle((x, y), 0.1, color='black')\n",
        "        ax.add_patch(eye)\n",
        "class Nose:\n",
        "    def draw(self, ax, x, y):\n",
        "        ax.plot([x, x], [y, y - 0.2], color='black')\n",
        "class Mouth:\n",
        "    def draw(self, ax, x, y):\n",
        "        mouth = patches.Arc((x, y), 0.5, 0.2, theta1=0, theta2=180, color='black')\n",
        "        ax.add_patch(mouth)\n",
        "class Face:\n",
        "    def draw(self):\n",
        "        fig, ax = plt.subplots()\n",
        "        ax.set_aspect('equal')\n",
        "        ax.set_xlim(-1, 1)\n",
        "        ax.set_ylim(-1, 1)\n",
        "        head = plt.Circle((0, 0), 0.8, fill=False)\n",
        "        ax.add_patch(head)\n",
        "        Eye().draw(ax, -0.3, 0.3)\n",
        "        Eye().draw(ax, 0.3, 0.3)\n",
        "        Nose().draw(ax, 0, 0.2)\n",
        "        Mouth().draw(ax, 0, -0.2)\n",
        "        plt.axis('off')\n",
        "        plt.title(\"Simple Face Drawing\")\n",
        "        plt.show()\n",
        "face = Face()\n",
        "face.draw()"
      ],
      "metadata": {
        "colab": {
          "base_uri": "https://localhost:8080/",
          "height": 428
        },
        "id": "vmneq_iO-7eJ",
        "outputId": "8b2e95c8-67c4-4831-d032-f67ab4c84650"
      },
      "execution_count": 59,
      "outputs": [
        {
          "output_type": "display_data",
          "data": {
            "text/plain": [
              "<Figure size 640x480 with 1 Axes>"
            ],
            "image/png": "[encoded data removed]"
          },
          "metadata": {}
        }
      ]
    },
    {
      "cell_type": "code",
      "source": [
        "#96.Minesweeper\n",
        "import random\n",
        "class Minesweeper:\n",
        "    def __init__(self, size, num_mines):\n",
        "        self.size = size\n",
        "        self.board = [[' ']*size for _ in range(size)]\n",
        "        self.mines = set()\n",
        "        while len(self.mines) < num_mines:\n",
        "            x, y = random.randint(0, size-1), random.randint(0, size-1)\n",
        "            self.mines.add((x, y))\n",
        "\n",
        "    def show_board(self):\n",
        "        for row in self.board:\n",
        "            print(\" | \".join(row))\n",
        "            print(\"-\" * (4*self.size - 1))\n",
        "\n",
        "    def reveal(self, x, y):\n",
        "        if (x, y) in self.mines:\n",
        "            self.board[x][y] = 'X'\n",
        "            print(\"Boom! You hit a mine.\")\n",
        "        else:\n",
        "            self.board[x][y] = 'O'\n",
        "            print(\"Safe.\")\n",
        "game = Minesweeper(5, 3)\n",
        "game.show_board()\n",
        "game.reveal(1, 1)\n",
        "game.show_board()"
      ],
      "metadata": {
        "colab": {
          "base_uri": "https://localhost:8080/"
        },
        "id": "NU24Dx9--7oN",
        "outputId": "047c49cd-3ec9-4642-ec17-e25a7b94d09a"
      },
      "execution_count": 60,
      "outputs": [
        {
          "output_type": "stream",
          "name": "stdout",
          "text": [
            "  |   |   |   |  \n",
            "-------------------\n",
            "  |   |   |   |  \n",
            "-------------------\n",
            "  |   |   |   |  \n",
            "-------------------\n",
            "  |   |   |   |  \n",
            "-------------------\n",
            "  |   |   |   |  \n",
            "-------------------\n",
            "Safe.\n",
            "  |   |   |   |  \n",
            "-------------------\n",
            "  | O |   |   |  \n",
            "-------------------\n",
            "  |   |   |   |  \n",
            "-------------------\n",
            "  |   |   |   |  \n",
            "-------------------\n",
            "  |   |   |   |  \n",
            "-------------------\n"
          ]
        }
      ]
    },
    {
      "cell_type": "code",
      "source": [
        "#97.Protein Transcription Class\n",
        "class ProteinTranscriber:\n",
        "    codon_table = {\n",
        "        'AUG': 'Methionine',\n",
        "        'UUU': 'Phenylalanine', 'UUC': 'Phenylalanine',\n",
        "        'UUA': 'Leucine', 'UUG': 'Leucine',\n",
        "    }\n",
        "\n",
        "    def transcribe(self, dna):\n",
        "        rna = dna.replace('T', 'U')\n",
        "        return [self.codon_table.get(rna[i:i+3], 'Unknown') for i in range(0, len(rna), 3)]\n",
        "\n",
        "transcriber = ProteinTranscriber()\n",
        "print(\"Amino acids:\", transcriber.transcribe(\"ATGTTACTT\"))\n"
      ],
      "metadata": {
        "colab": {
          "base_uri": "https://localhost:8080/"
        },
        "id": "5_ACbl5x-7zc",
        "outputId": "348ef29d-9ccf-4165-a530-14730657f909"
      },
      "execution_count": 61,
      "outputs": [
        {
          "output_type": "stream",
          "name": "stdout",
          "text": [
            "Amino acids: ['Methionine', 'Leucine', 'Unknown']\n"
          ]
        }
      ]
    },
    {
      "cell_type": "code",
      "source": [
        "#98.ATM Queue Simulation\n",
        "import queue\n",
        "import random\n",
        "\n",
        "class ATMEvent:\n",
        "    def __init__(self, time, action):\n",
        "        self.time = time\n",
        "        self.action = action\n",
        "\n",
        "    def __lt__(self, other):\n",
        "        return self.time < other.time\n",
        "\n",
        "def simulate_one_queue():\n",
        "    event_queue = queue.PriorityQueue()\n",
        "    time = 0\n",
        "    for i in range(10):  # 10 students\n",
        "        arrival = time + random.randint(1, 5)\n",
        "        event_queue.put(ATMEvent(arrival, f\"Student {i+1} arrives\"))\n",
        "\n",
        "    while not event_queue.empty():\n",
        "        event = event_queue.get()\n",
        "        print(f\"Time {event.time}: {event.action}\")\n",
        "\n",
        "simulate_one_queue()\n"
      ],
      "metadata": {
        "colab": {
          "base_uri": "https://localhost:8080/"
        },
        "id": "Er5F6LYD-786",
        "outputId": "214e0255-8db7-47df-d69c-deb0854a95ca"
      },
      "execution_count": 62,
      "outputs": [
        {
          "output_type": "stream",
          "name": "stdout",
          "text": [
            "Time 2: Student 5 arrives\n",
            "Time 2: Student 7 arrives\n",
            "Time 3: Student 1 arrives\n",
            "Time 3: Student 2 arrives\n",
            "Time 4: Student 3 arrives\n",
            "Time 4: Student 6 arrives\n",
            "Time 4: Student 10 arrives\n",
            "Time 4: Student 8 arrives\n",
            "Time 5: Student 4 arrives\n",
            "Time 5: Student 9 arrives\n"
          ]
        }
      ]
    },
    {
      "cell_type": "code",
      "source": [
        "#99.Golf Relaxed\n",
        "import random\n",
        "\n",
        "def golf_relaxed():\n",
        "    deck = list(range(1, 14)) * 4\n",
        "    random.shuffle(deck)\n",
        "    tableau = [deck.pop() for _ in range(7)]\n",
        "    discard = deck.pop()\n",
        "\n",
        "    print(\"Initial Tableau:\", tableau)\n",
        "    print(\"Starting Discard:\", discard)\n",
        "\n",
        "    while tableau:\n",
        "        playable = [card for card in tableau if abs(card - discard) == 1]\n",
        "        if not playable:\n",
        "            break\n",
        "        chosen = playable[0]\n",
        "        tableau.remove(chosen)\n",
        "        discard = chosen\n",
        "        print(\"Played:\", chosen, \" | New Discard:\", discard, \" | Tableau:\", tableau)\n",
        "\n",
        "    print(\"Game Over. Cards Left in Tableau:\", len(tableau))\n",
        "\n",
        "golf_relaxed()\n"
      ],
      "metadata": {
        "colab": {
          "base_uri": "https://localhost:8080/"
        },
        "id": "OTTcHiB_-8FN",
        "outputId": "bece06f6-d17d-46da-b68f-5f14b78b52fa"
      },
      "execution_count": 63,
      "outputs": [
        {
          "output_type": "stream",
          "name": "stdout",
          "text": [
            "Initial Tableau: [8, 3, 10, 3, 6, 5, 2]\n",
            "Starting Discard: 7\n",
            "Played: 8  | New Discard: 8  | Tableau: [3, 10, 3, 6, 5, 2]\n",
            "Game Over. Cards Left in Tableau: 6\n"
          ]
        }
      ]
    },
    {
      "cell_type": "code",
      "source": [
        "#100.Aces Up\n",
        "import random\n",
        "def aces_up():\n",
        "    deck = list(range(1, 14)) * 4\n",
        "    random.shuffle(deck)\n",
        "    piles = [[] for _ in range(4)]\n",
        "\n",
        "    while deck:\n",
        "        for pile in piles:\n",
        "            if deck:\n",
        "                pile.append(deck.pop())\n",
        "        print(\"Piles:\", piles)\n",
        "        top_cards = [pile[-1] for pile in piles if pile]\n",
        "        for i, card1 in enumerate(top_cards):\n",
        "            for j, card2 in enumerate(top_cards):\n",
        "                if i != j and card1 % 13 == card2 % 13 and card1 < card2:\n",
        "                    if piles[i]: piles[i].pop()\n",
        "\n",
        "    print(\"Final Piles:\", piles)\n",
        "\n",
        "aces_up()\n"
      ],
      "metadata": {
        "colab": {
          "base_uri": "https://localhost:8080/"
        },
        "id": "eeds4lNo-8Po",
        "outputId": "988ec4ea-43e0-4348-c2e7-6d9515e99bf3"
      },
      "execution_count": 64,
      "outputs": [
        {
          "output_type": "stream",
          "name": "stdout",
          "text": [
            "Piles: [[4], [8], [10], [3]]\n",
            "Piles: [[4, 13], [8, 1], [10, 4], [3, 9]]\n",
            "Piles: [[4, 13, 8], [8, 1, 5], [10, 4, 5], [3, 9, 2]]\n",
            "Piles: [[4, 13, 8, 11], [8, 1, 5, 7], [10, 4, 5, 10], [3, 9, 2, 4]]\n",
            "Piles: [[4, 13, 8, 11, 11], [8, 1, 5, 7, 6], [10, 4, 5, 10, 13], [3, 9, 2, 4, 7]]\n",
            "Piles: [[4, 13, 8, 11, 11, 2], [8, 1, 5, 7, 6, 8], [10, 4, 5, 10, 13, 12], [3, 9, 2, 4, 7, 3]]\n",
            "Piles: [[4, 13, 8, 11, 11, 2, 13], [8, 1, 5, 7, 6, 8, 7], [10, 4, 5, 10, 13, 12, 1], [3, 9, 2, 4, 7, 3, 5]]\n",
            "Piles: [[4, 13, 8, 11, 11, 2, 13, 9], [8, 1, 5, 7, 6, 8, 7, 11], [10, 4, 5, 10, 13, 12, 1, 9], [3, 9, 2, 4, 7, 3, 5, 9]]\n",
            "Piles: [[4, 13, 8, 11, 11, 2, 13, 9, 13], [8, 1, 5, 7, 6, 8, 7, 11, 8], [10, 4, 5, 10, 13, 12, 1, 9, 7], [3, 9, 2, 4, 7, 3, 5, 9, 12]]\n",
            "Piles: [[4, 13, 8, 11, 11, 2, 13, 9, 13, 6], [8, 1, 5, 7, 6, 8, 7, 11, 8, 3], [10, 4, 5, 10, 13, 12, 1, 9, 7, 2], [3, 9, 2, 4, 7, 3, 5, 9, 12, 1]]\n",
            "Piles: [[4, 13, 8, 11, 11, 2, 13, 9, 13, 6, 10], [8, 1, 5, 7, 6, 8, 7, 11, 8, 3, 11], [10, 4, 5, 10, 13, 12, 1, 9, 7, 2, 4], [3, 9, 2, 4, 7, 3, 5, 9, 12, 1, 12]]\n",
            "Piles: [[4, 13, 8, 11, 11, 2, 13, 9, 13, 6, 10, 6], [8, 1, 5, 7, 6, 8, 7, 11, 8, 3, 11, 12], [10, 4, 5, 10, 13, 12, 1, 9, 7, 2, 4, 6], [3, 9, 2, 4, 7, 3, 5, 9, 12, 1, 12, 2]]\n",
            "Piles: [[4, 13, 8, 11, 11, 2, 13, 9, 13, 6, 10, 6, 3], [8, 1, 5, 7, 6, 8, 7, 11, 8, 3, 11, 12, 10], [10, 4, 5, 10, 13, 12, 1, 9, 7, 2, 4, 6, 1], [3, 9, 2, 4, 7, 3, 5, 9, 12, 1, 12, 2, 5]]\n",
            "Final Piles: [[4, 13, 8, 11, 11, 2, 13, 9, 13, 6, 10, 6, 3], [8, 1, 5, 7, 6, 8, 7, 11, 8, 3, 11, 12, 10], [10, 4, 5, 10, 13, 12, 1, 9, 7, 2, 4, 6, 1], [3, 9, 2, 4, 7, 3, 5, 9, 12, 1, 12, 2, 5]]\n"
          ]
        }
      ]
    },
    {
      "cell_type": "code",
      "source": [
        "#101. Spider\n",
        "import random\n",
        "\n",
        "def spider():\n",
        "    deck = list(range(1, 14)) * 8  # 104 cards, one suit\n",
        "    random.shuffle(deck)\n",
        "\n",
        "    tableau = [deck[i*10:(i+1)*10] for i in range(10)]\n",
        "    for i in range(10):\n",
        "        print(f\"Pile {i+1}: {tableau[i]}\")\n",
        "    if tableau[0] and tableau[1]:\n",
        "        if tableau[0][-1] == tableau[1][-1] - 1:\n",
        "            card = tableau[0].pop()\n",
        "            tableau[1].append(card)\n",
        "            print(\"\\nMoved card\", card, \"from pile 1 to 2\")\n",
        "\n",
        "    print(\"\\nUpdated Piles:\")\n",
        "    for i in range(10):\n",
        "        print(f\"Pile {i+1}: {tableau[i]}\")\n",
        "\n",
        "spider()\n"
      ],
      "metadata": {
        "colab": {
          "base_uri": "https://localhost:8080/"
        },
        "id": "7-WZaliT-8YS",
        "outputId": "712336d6-f5b5-4305-d98a-8c4a9cba4675"
      },
      "execution_count": 65,
      "outputs": [
        {
          "output_type": "stream",
          "name": "stdout",
          "text": [
            "Pile 1: [13, 5, 3, 2, 11, 1, 5, 8, 7, 4]\n",
            "Pile 2: [10, 5, 3, 9, 4, 2, 10, 3, 9, 7]\n",
            "Pile 3: [9, 13, 11, 12, 1, 12, 10, 11, 6, 11]\n",
            "Pile 4: [7, 12, 1, 1, 8, 2, 2, 2, 7, 8]\n",
            "Pile 5: [9, 13, 1, 12, 8, 6, 11, 6, 5, 10]\n",
            "Pile 6: [9, 6, 10, 12, 11, 7, 8, 1, 9, 1]\n",
            "Pile 7: [8, 4, 3, 5, 6, 10, 9, 5, 5, 7]\n",
            "Pile 8: [13, 2, 12, 4, 8, 9, 1, 6, 3, 10]\n",
            "Pile 9: [3, 13, 4, 12, 12, 13, 4, 7, 3, 4]\n",
            "Pile 10: [7, 6, 10, 3, 11, 13, 13, 2, 2, 8]\n",
            "\n",
            "Updated Piles:\n",
            "Pile 1: [13, 5, 3, 2, 11, 1, 5, 8, 7, 4]\n",
            "Pile 2: [10, 5, 3, 9, 4, 2, 10, 3, 9, 7]\n",
            "Pile 3: [9, 13, 11, 12, 1, 12, 10, 11, 6, 11]\n",
            "Pile 4: [7, 12, 1, 1, 8, 2, 2, 2, 7, 8]\n",
            "Pile 5: [9, 13, 1, 12, 8, 6, 11, 6, 5, 10]\n",
            "Pile 6: [9, 6, 10, 12, 11, 7, 8, 1, 9, 1]\n",
            "Pile 7: [8, 4, 3, 5, 6, 10, 9, 5, 5, 7]\n",
            "Pile 8: [13, 2, 12, 4, 8, 9, 1, 6, 3, 10]\n",
            "Pile 9: [3, 13, 4, 12, 12, 13, 4, 7, 3, 4]\n",
            "Pile 10: [7, 6, 10, 3, 11, 13, 13, 2, 2, 8]\n"
          ]
        }
      ]
    },
    {
      "cell_type": "code",
      "source": [
        "#60. Bank File Processing: Read and keep a ledger\n",
        "# Step 1: Create a sample bank transaction file\n",
        "with open(\"transactions.txt\", \"w\") as file:\n",
        "    file.write(\"deposit 100\\n\")\n",
        "    file.write(\"withdraw 20\\n\")\n",
        "    file.write(\"deposit 50\\n\")\n",
        "\n",
        "# Step 2: Define the processing function\n",
        "def process_bank_file(filename):\n",
        "    balance = 0\n",
        "    with open(filename) as file:\n",
        "        for line in file:\n",
        "            parts = line.strip().split()\n",
        "            if len(parts) != 2:\n",
        "                continue\n",
        "            action, amount = parts[0], float(parts[1])\n",
        "            if action == \"deposit\":\n",
        "                balance += amount\n",
        "            elif action == \"withdraw\":\n",
        "                balance -= amount\n",
        "    return balance\n",
        "\n",
        "# Step 3: Run the function and show output\n",
        "print(\"Final balance:\", process_bank_file(\"transactions.txt\"))\n",
        "\n"
      ],
      "metadata": {
        "colab": {
          "base_uri": "https://localhost:8080/"
        },
        "id": "gICcrrg2Cnj1",
        "outputId": "bfe1b498-8f6f-4724-ba13-8aa447516321"
      },
      "execution_count": 66,
      "outputs": [
        {
          "output_type": "stream",
          "name": "stdout",
          "text": [
            "Final balance: 130.0\n"
          ]
        }
      ]
    }
  ]
}