{
  "nbformat": 4,
  "nbformat_minor": 0,
  "metadata": {
    "colab": {
      "provenance": [],
      "authorship_tag": "ABX9TyNWvjZ1DJXSA49WOTY6vClY",
      "include_colab_link": true
    },
    "kernelspec": {
      "name": "python3",
      "display_name": "Python 3"
    },
    "language_info": {
      "name": "python"
    }
  },
  "cells": [
    {
      "cell_type": "markdown",
      "metadata": {
        "id": "view-in-github",
        "colab_type": "text"
      },
      "source": [
        "<a href=\"https://colab.research.google.com/github/Spoorthikb11/Road-Accident-Analysis-in-India/blob/main/practicepython.ipynb\" target=\"_parent\"><img src=\"https://colab.research.google.com/assets/colab-badge.svg\" alt=\"Open In Colab\"/></a>"
      ]
    },
    {
      "cell_type": "code",
      "source": [
        "#1.Canoe Portage\n",
        "## Question:\n",
        "#You need to carry a canoe over land. Input the distance (in km) and the weight of the canoe (in kg). Calculate and print the total effort as distance × weight.\n",
        "\n",
        "\n",
        "distance = float(input(\"Enter distance in kilometers: \"))\n",
        "weight = float(input(\"Enter weight of canoe in kilograms: \"))\n",
        "effort = distance * weight\n",
        "print(\"Total effort needed:\", effort)"
      ],
      "metadata": {
        "colab": {
          "base_uri": "https://localhost:8080/"
        },
        "id": "n-SSc0Ttoeru",
        "outputId": "88e0d0b5-f9b0-4959-b135-d3ab86321491"
      },
      "execution_count": null,
      "outputs": [
        {
          "output_type": "stream",
          "name": "stdout",
          "text": [
            "Enter distance in kilometers:   2\n",
            "Enter weight of canoe in kilograms:  1\n",
            "Total effort needed: 2.0\n"
          ]
        }
      ]
    },
    {
      "cell_type": "code",
      "source": [
        "#2.Richter Scale Energy\n",
        "#Question:\n",
        "#Enter an earthquake magnitude. Calculate the energy released using the formula:\n",
        "#E = 10^(1.5 * magnitude + 4.8)\n",
        "\n",
        "import math\n",
        "magnitude = float(input(\"Enter earthquake magnitude: \"))\n",
        "energy = 10 ** (1.5 * magnitude + 4.8)\n",
        "print(\"Energy released (in joules):\", energy)"
      ],
      "metadata": {
        "colab": {
          "base_uri": "https://localhost:8080/"
        },
        "id": "J1ospgDsov7R",
        "outputId": "30c64a1c-255b-410c-be58-b01c9e9634a2"
      },
      "execution_count": null,
      "outputs": [
        {
          "output_type": "stream",
          "name": "stdout",
          "text": [
            "Enter earthquake magnitude:  20\n",
            "Energy released (in joules): 6.309573444801891e+34\n"
          ]
        }
      ]
    },
    {
      "cell_type": "code",
      "source": [
        "#3. Arithmetic - Input some numbers, do simple arithmetic, and output results.\n",
        "\n",
        "# Basic Arithmetic\n",
        "\n",
        "\n",
        "num1 = float(input(\"Enter the first number: \"))\n",
        "num2 = float(input(\"Enter the second number: \"))\n",
        "\n",
        "print(\"Sum:\", num1 + num2)\n",
        "print(\"Difference:\", num1 - num2)\n",
        "print(\"Product:\", num1 * num2)\n",
        "if num2 != 0:\n",
        "    print(\"Division:\", num1 / num2)\n",
        "else:\n",
        "    print(\"Cannot divide by zero\")"
      ],
      "metadata": {
        "colab": {
          "base_uri": "https://localhost:8080/"
        },
        "id": "8B1N4-HvBrz4",
        "outputId": "1e1950b2-f04c-4257-df7b-220bdc0b2a02"
      },
      "execution_count": null,
      "outputs": [
        {
          "output_type": "stream",
          "name": "stdout",
          "text": [
            "Enter the first number:  20\n",
            "Enter the second number:  40\n",
            "Sum: 60.0\n",
            "Difference: -20.0\n",
            "Product: 800.0\n",
            "Division: 0.5\n"
          ]
        }
      ]
    },
    {
      "cell_type": "code",
      "source": [
        "#4. Gasoline - Input some numbers, do simple arithmetic on gas and oil quantities, and output results.\n",
        "# Gasoline Calculation\n",
        "\n",
        "gas_quantity = float(input(\"Enter gasoline quantity (gallons): \"))\n",
        "gas_price = float(input(\"Enter price per gallon: \"))\n",
        "oil_quantity = float(input(\"Enter oil quantity (quarts): \"))\n",
        "oil_price = float(input(\"Enter price per quart: \"))\n",
        "\n",
        "\n",
        "total_gas_cost = gas_quantity * gas_price\n",
        "total_oil_cost = oil_quantity * oil_price\n",
        "total_cost = total_gas_cost + total_oil_cost\n",
        "\n",
        "\n",
        "print(\"Total cost for gasoline:\", total_gas_cost)\n",
        "print(\"Total cost for oil:\", total_oil_cost)\n",
        "print(\"Total cost for both gasoline and oil:\", total_cost)"
      ],
      "metadata": {
        "colab": {
          "base_uri": "https://localhost:8080/"
        },
        "id": "FBtZZj4_CJ1d",
        "outputId": "803a8488-096b-40cd-d5ab-a37c5c82733b"
      },
      "execution_count": null,
      "outputs": [
        {
          "output_type": "stream",
          "name": "stdout",
          "text": [
            "Enter gasoline quantity (gallons): 10\n",
            "Enter price per gallon: 100\n",
            "Enter oil quantity (quarts): 20\n",
            "Enter price per quart: 200\n",
            "Total cost for gasoline: 1000.0\n",
            "Total cost for oil: 4000.0\n",
            "Total cost for both gasoline and oil: 5000.0\n"
          ]
        }
      ]
    },
    {
      "cell_type": "code",
      "source": [
        "#5.Making Change : Making change.\n",
        "def make_change(amount):\n",
        "    coins = [100, 50, 20, 10, 5, 2, 1]\n",
        "    for coin in coins:\n",
        "        count = amount // coin\n",
        "        if count > 0:\n",
        "            print(f\"{coin} x {count}\")\n",
        "            amount %= coin\n",
        "\n",
        "make_change(int(input(\"Enter amount: \")))\n"
      ],
      "metadata": {
        "colab": {
          "base_uri": "https://localhost:8080/"
        },
        "id": "1iZPF2JCFiXB",
        "outputId": "1a9b08dc-d99e-4356-c53a-3b1c66ed3e28"
      },
      "execution_count": null,
      "outputs": [
        {
          "output_type": "stream",
          "name": "stdout",
          "text": [
            "Enter amount: 3\n",
            "2 x 1\n",
            "1 x 1\n"
          ]
        }
      ]
    },
    {
      "cell_type": "code",
      "source": [
        "#6.Number Puzzle: SplitNumber: Split numbers into increasing sequences, e.g. 154152 -> 15, 41, 52.\n",
        "def split_number(num):\n",
        "    return [num[i:i+2] for i in range(0, len(num), 2)]\n",
        "\n",
        "print(split_number(\"154152\"))  # Output: ['15', '41', '52']\n"
      ],
      "metadata": {
        "colab": {
          "base_uri": "https://localhost:8080/"
        },
        "id": "DthAoSNbFxBJ",
        "outputId": "52f347b5-751d-4a56-da23-fd837510abac"
      },
      "execution_count": null,
      "outputs": [
        {
          "output_type": "stream",
          "name": "stdout",
          "text": [
            "['15', '41', '52']\n"
          ]
        }
      ]
    },
    {
      "cell_type": "code",
      "source": [
        "#7.WaterBilling: Calculate water bills based on category and useage.\n",
        "def water_bill(units, category):\n",
        "    rate = {'residential': 5, 'commercial': 10, 'industrial': 15}\n",
        "    return units * rate.get(category, 5)\n",
        "\n",
        "print(\"Total: ₹\", water_bill(100, \"residential\"))\n"
      ],
      "metadata": {
        "colab": {
          "base_uri": "https://localhost:8080/"
        },
        "id": "mrHvH1fiF8Ll",
        "outputId": "b168abcd-e4b9-4ca4-b448-d5015879b2b6"
      },
      "execution_count": null,
      "outputs": [
        {
          "output_type": "stream",
          "name": "stdout",
          "text": [
            "Total: ₹ 500\n"
          ]
        }
      ]
    },
    {
      "cell_type": "code",
      "source": [
        "#8.CarRental: Calculate rates for a car rental agency based on category and mileage.\n",
        "def rental(days, km, category):\n",
        "    base = {'economy': 20, 'suv': 40, 'luxury': 60}\n",
        "    rate = {'economy': 5, 'suv': 8, 'luxury': 10}\n",
        "    return base.get(category, 30)*days + rate.get(category, 5)*km\n",
        "\n",
        "print(\"Total: ₹\", rental(3, 150, \"suv\"))\n"
      ],
      "metadata": {
        "colab": {
          "base_uri": "https://localhost:8080/"
        },
        "id": "cUeUdfLjGIbc",
        "outputId": "cc5f2ee9-f766-4ef0-ce29-571f165f8979"
      },
      "execution_count": null,
      "outputs": [
        {
          "output_type": "stream",
          "name": "stdout",
          "text": [
            "Total: ₹ 1320\n"
          ]
        }
      ]
    },
    {
      "cell_type": "code",
      "source": [
        "#9 Working With Strings.\n",
        "#next 9.Palindomic Integers: Use the 196-algorithm to construct palindomic integers starting from any integer.\n",
        "n = 87\n",
        "while str(n) != str(n)[::-1]:\n",
        "    n += int(str(n)[::-1])                #done\n",
        "print(\"Palindrome:\", n)\n"
      ],
      "metadata": {
        "colab": {
          "base_uri": "https://localhost:8080/"
        },
        "id": "Ei25wETRGTP3",
        "outputId": "ced7b5a5-49f0-48d3-991e-7ec7f0cf2463"
      },
      "execution_count": null,
      "outputs": [
        {
          "output_type": "stream",
          "name": "stdout",
          "text": [
            "Palindrome: 4884\n"
          ]
        }
      ]
    },
    {
      "cell_type": "code",
      "source": [
        "#10.Number-Guessing Game: Create a number-guessing game that provides hints on the number and position of correct digits in the guess (similar to Mastermind)\n",
        "secret = \"1234\"\n",
        "while True:\n",
        "    guess = input(\"Guess 4 digits: \")\n",
        "    if guess == secret:\n",
        "        print(\"Correct!\")\n",
        "        break\n",
        "    count = sum(secret[i] == guess[i] for i in range(4))\n",
        "    print(\"Correct places:\", count)\n"
      ],
      "metadata": {
        "colab": {
          "base_uri": "https://localhost:8080/"
        },
        "id": "Y0vXYYDCHpkR",
        "outputId": "ac72f28e-f386-4e08-bbda-36babbd0ccd0"
      },
      "execution_count": null,
      "outputs": [
        {
          "output_type": "stream",
          "name": "stdout",
          "text": [
            "Guess 4 digits:  3456\n",
            "Correct places: 0\n",
            "Guess 4 digits: 1234\n",
            "Correct!\n"
          ]
        }
      ]
    },
    {
      "cell_type": "code",
      "source": [
        "#11.Mastermind: Create a Mastermind game.\n",
        "code = \"1234\"\n",
        "while True:\n",
        "    guess = input(\"Your guess: \")\n",
        "    if guess == code:\n",
        "        print(\"You win!\")\n",
        "        break\n",
        "    print(\"Matched:\", sum(code[i] == guess[i] for i in range(4)))\n"
      ],
      "metadata": {
        "colab": {
          "base_uri": "https://localhost:8080/"
        },
        "id": "ohYOyb7vH_0m",
        "outputId": "4ff0d25e-ee26-4660-df73-d2076a7b51e0"
      },
      "execution_count": null,
      "outputs": [
        {
          "output_type": "stream",
          "name": "stdout",
          "text": [
            "Your guess:  2345\n",
            "Matched: 3\n",
            "Your guess: 5678\n",
            "Matched: 0\n",
            "Your guess: 1122\n",
            "Matched: 1\n",
            "Your guess: 1234\n",
            "You win!\n"
          ]
        }
      ]
    },
    {
      "cell_type": "code",
      "source": [
        "#next.Functions (simple)\n",
        "#12.Password_Cracking: Password Cracking.\n",
        "password = \"hello123\"\n",
        "guesses = [\"test\", \"1234\", \"hello\", \"hello123\"]\n",
        "\n",
        "for guess in guesses:\n",
        "    if guess == password:\n",
        "        print(\"Password found:\", guess)\n",
        "        break\n"
      ],
      "metadata": {
        "colab": {
          "base_uri": "https://localhost:8080/"
        },
        "id": "PjAY7MVLIaXV",
        "outputId": "1b76bf80-d766-4a3e-d6f2-0784f22c65e0"
      },
      "execution_count": null,
      "outputs": [
        {
          "output_type": "stream",
          "name": "stdout",
          "text": [
            "Password found: hello123\n"
          ]
        }
      ]
    },
    {
      "cell_type": "code",
      "source": [
        "#13.StringLibrary: Implement a library of string functions\n",
        "def my_length(s):\n",
        "    count = 0\n",
        "    for _ in s:\n",
        "        count += 1\n",
        "    return count       #done\n",
        "\n",
        "print(my_length(\"spoorthi\"))\n"
      ],
      "metadata": {
        "colab": {
          "base_uri": "https://localhost:8080/"
        },
        "id": "tmX21wwXJF6q",
        "outputId": "a9f35e50-8272-45af-89eb-9bca561bb2cb"
      },
      "execution_count": null,
      "outputs": [
        {
          "output_type": "stream",
          "name": "stdout",
          "text": [
            "8\n"
          ]
        }
      ]
    },
    {
      "cell_type": "code",
      "source": [
        "#14.GDP vs. Employment: Using GDP and employment data from the web, prompt for a year and provide the data for that year.\n",
        "data = {\n",
        "    \"2020\": {\"GDP\": \"2.6T\", \"Jobs\": \"140M\"},\n",
        "    \"2021\": {\"GDP\": \"2.8T\", \"Jobs\": \"145M\"}\n",
        "}\n",
        "\n",
        "year = input(\"Enter year: \")\n",
        "if year in data:\n",
        "    print(\"GDP:\", data[year][\"GDP\"])\n",
        "    print(\"Jobs:\", data[year][\"Jobs\"])\n",
        "else:\n",
        "    print(\"Data not found\")\n"
      ],
      "metadata": {
        "colab": {
          "base_uri": "https://localhost:8080/"
        },
        "id": "BYx7U19tJcrQ",
        "outputId": "20dbd187-2521-4745-aff6-d690132b1433"
      },
      "execution_count": null,
      "outputs": [
        {
          "output_type": "stream",
          "name": "stdout",
          "text": [
            "Enter year: 2020\n",
            "GDP: 2.6T\n",
            "Jobs: 140M\n"
          ]
        }
      ]
    },
    {
      "cell_type": "code",
      "source": [
        "#next.Lists and Tuples\n",
        "#15.Bestsellers: Answer queries about bestsellers such as \"What were the bestsellers in 2008?\".\n",
        "\n",
        "bestsellers = [(\"2008\", \"Book A\"), (\"2009\", \"Book B\"), (\"2008\", \"Book C\")]\n",
        "\n",
        "year = input(\"Enter year: \")\n",
        "for y, book in bestsellers:\n",
        "    if y == year:\n",
        "        print(book)\n",
        "\n"
      ],
      "metadata": {
        "id": "MOL5Zds2J6r4",
        "colab": {
          "base_uri": "https://localhost:8080/"
        },
        "outputId": "a0a474b8-b94f-4050-c48f-7269318f7dbb"
      },
      "execution_count": null,
      "outputs": [
        {
          "output_type": "stream",
          "name": "stdout",
          "text": [
            "Enter year: 2009\n",
            "Book B\n"
          ]
        }
      ]
    },
    {
      "cell_type": "code",
      "source": [
        "#16.Venus: Determine suitable craters for mining on Venus using NASA data.\n",
        "craters = [(\"Alpha\", 20), (\"Beta\", 35), (\"Gamma\", 10)]\n",
        "\n",
        "for name, size in craters:\n",
        "    if size > 25:\n",
        "        print(name, \"is suitable for mining\")\n"
      ],
      "metadata": {
        "colab": {
          "base_uri": "https://localhost:8080/"
        },
        "id": "RTVZM4kOLQLP",
        "outputId": "0ad7acdf-6e23-4819-e10d-6c21a1939f86"
      },
      "execution_count": null,
      "outputs": [
        {
          "output_type": "stream",
          "name": "stdout",
          "text": [
            "Beta is suitable for mining\n"
          ]
        }
      ]
    },
    {
      "cell_type": "code",
      "source": [
        "#17.Apple Stock : Given a log file of Apple stock prices, calculate some simple statistics\n",
        "prices = [150.5, 153.2, 149.7, 151.0]\n",
        "\n",
        "print(\"Highest:\", max(prices))\n",
        "print(\"Lowest:\", min(prices))\n",
        "print(\"Average:\", sum(prices)/len(prices))\n"
      ],
      "metadata": {
        "colab": {
          "base_uri": "https://localhost:8080/"
        },
        "id": "VeyO1WOQLcnr",
        "outputId": "f50873d0-11a4-4770-803f-01375e5bb9af"
      },
      "execution_count": null,
      "outputs": [
        {
          "output_type": "stream",
          "name": "stdout",
          "text": [
            "Highest: 153.2\n",
            "Lowest: 149.7\n",
            "Average: 151.1\n"
          ]
        }
      ]
    },
    {
      "cell_type": "code",
      "source": [
        "#18.Build HTML: Build HTML files from a database of information.\n",
        "data = [(\"Alice\", \"Loves cats\"), (\"Bob\", \"Loves code\")]\n",
        "\n",
        "for name, bio in data:\n",
        "    print(f\"<h1>{name}</h1>\")\n",
        "    print(f\"<p>{bio}</p>\")\n",
        "  #done"
      ],
      "metadata": {
        "colab": {
          "base_uri": "https://localhost:8080/"
        },
        "id": "KZ1f9Wa9Lvjp",
        "outputId": "0fa6b5fb-88d8-487d-df29-0f82c80c14a0"
      },
      "execution_count": null,
      "outputs": [
        {
          "output_type": "stream",
          "name": "stdout",
          "text": [
            "<h1>Alice</h1>\n",
            "<p>Loves cats</p>\n",
            "<h1>Bob</h1>\n",
            "<p>Loves code</p>\n"
          ]
        }
      ]
    },
    {
      "cell_type": "code",
      "source": [
        "#19.Sunspots: Using NOAA data from the web analyze sunspot data to predict the next sunspot peak\n",
        "spots = [22, 45, 60, 58, 72, 85]\n",
        "print(\"Next peak may be:\", max(spots))\n"
      ],
      "metadata": {
        "colab": {
          "base_uri": "https://localhost:8080/"
        },
        "id": "wVuPMGnuMCNJ",
        "outputId": "be6b588f-2628-4e06-c62f-0eb3ca0e54d8"
      },
      "execution_count": null,
      "outputs": [
        {
          "output_type": "stream",
          "name": "stdout",
          "text": [
            "Next peak may be: 85\n"
          ]
        }
      ]
    },
    {
      "cell_type": "code",
      "source": [
        "#next.Dictionaries and Sets\n",
        "#20.Jobs: Grab data from data.gov and analyze private and public employment under different presidents.\n",
        "jobs = {\n",
        "    \"Obama\": {\"public\": 80, \"private\": 100},\n",
        "    \"Bush\": {\"public\": 70, \"private\": 90}\n",
        "}\n",
        "\n",
        "pres = input(\"Enter president: \")\n",
        "if pres in jobs:\n",
        "    print(\"Public:\", jobs[pres][\"public\"])\n",
        "    print(\"Private:\", jobs[pres][\"private\"])\n"
      ],
      "metadata": {
        "colab": {
          "base_uri": "https://localhost:8080/"
        },
        "id": "o_u8yqnbMNwl",
        "outputId": "658f69ab-54c3-47dc-ea5b-e00f13269ec4"
      },
      "execution_count": null,
      "outputs": [
        {
          "output_type": "stream",
          "name": "stdout",
          "text": [
            "Enter president: Bush\n",
            "Public: 70\n",
            "Private: 90\n"
          ]
        }
      ]
    },
    {
      "cell_type": "code",
      "source": [
        "#21.Sunspots: Determine cycles in sunspot data\n",
        "years = [1750, 1760, 1770]\n",
        "spots = [20, 50, 90]\n",
        "max_year = years[spots.index(max(spots))]\n",
        "print(\"Peak year:\", max_year)\n"
      ],
      "metadata": {
        "colab": {
          "base_uri": "https://localhost:8080/"
        },
        "id": "5y5h9fPiNwaG",
        "outputId": "99c83059-0b6a-48c6-9247-6c0a7a235772"
      },
      "execution_count": null,
      "outputs": [
        {
          "output_type": "stream",
          "name": "stdout",
          "text": [
            "Peak year: 1770\n"
          ]
        }
      ]
    },
    {
      "cell_type": "code",
      "source": [
        "#22.Vocabulary Quiz: Build a vocabulary quiz program.\n",
        "quiz = {\"python\": \"a snake or programming language\", \"loop\": \"repeats code\"}\n",
        "\n",
        "word = input(\"What is the meaning of: \")\n",
        "print(quiz.get(word, \"Not in quiz\"))\n"
      ],
      "metadata": {
        "colab": {
          "base_uri": "https://localhost:8080/"
        },
        "id": "0bh2Hzr_OHwh",
        "outputId": "c3d7e6cd-240f-4cc0-bf8c-efc0033709a6"
      },
      "execution_count": null,
      "outputs": [
        {
          "output_type": "stream",
          "name": "stdout",
          "text": [
            "What is the meaning of: python\n",
            "a snake or programming language\n"
          ]
        }
      ]
    },
    {
      "cell_type": "code",
      "source": [
        "#23.Income Classifier: Build an income classifier from individuals' characteristics (over 30K records from the Internet) to predict if the individual's income will be greater than $50K or not\n",
        "people = {\"A\": 52000, \"B\": 48000}\n",
        "for name, income in people.items():\n",
        "    print(name, \"Above 50K?\" , income > 50000)\n"
      ],
      "metadata": {
        "colab": {
          "base_uri": "https://localhost:8080/"
        },
        "id": "-pHtMTRHOmpc",
        "outputId": "79be1725-4d71-47f8-8d05-8694c747e2db"
      },
      "execution_count": null,
      "outputs": [
        {
          "output_type": "stream",
          "name": "stdout",
          "text": [
            "A Above 50K? True\n",
            "B Above 50K? False\n"
          ]
        }
      ]
    },
    {
      "cell_type": "code",
      "source": [
        "#24.Breast Cancer Classifier: Build a cancer classifier from breast cancer study data to predict if a given cancer is malignant or not\n",
        "data = {\"Patient1\": \"M\", \"Patient2\": \"B\"}\n",
        "test = \"Patient2\"\n",
        "print(\"Diagnosis:\", data.get(test, \"Unknown\"))\n"
      ],
      "metadata": {
        "colab": {
          "base_uri": "https://localhost:8080/"
        },
        "id": "1pKOtcJnO3XV",
        "outputId": "3653b22d-3ddb-4a2b-f6db-4071d9d78754"
      },
      "execution_count": null,
      "outputs": [
        {
          "output_type": "stream",
          "name": "stdout",
          "text": [
            "Diagnosis: B\n"
          ]
        }
      ]
    },
    {
      "cell_type": "code",
      "source": [
        "#25.Movies & Actors: Using the online Internet Movies DataBase build a dictionary of movies and actors. Given two movies find all the actors in the movies (AND), find the common actors in the movies (OR), find the actors in either movie but not both (EXCLUSIVE_OR). Given an actor, find all the co-actors that actor has acted with.\n",
        "movies = {\n",
        "    \"MovieA\": {\"Actor1\", \"Actor2\"},\n",
        "    \"MovieB\": {\"Actor2\", \"Actor3\"}\n",
        "}\n",
        "                                                                                  #done\n",
        "print(\"AND:\", movies[\"MovieA\"] & movies[\"MovieB\"])\n",
        "print(\"OR:\", movies[\"MovieA\"] | movies[\"MovieB\"])\n",
        "print(\"XOR:\", movies[\"MovieA\"] ^ movies[\"MovieB\"])\n"
      ],
      "metadata": {
        "colab": {
          "base_uri": "https://localhost:8080/"
        },
        "id": "d10_GQRXPJck",
        "outputId": "99b54421-d5db-4b3f-c255-64f5ad7042ec"
      },
      "execution_count": null,
      "outputs": [
        {
          "output_type": "stream",
          "name": "stdout",
          "text": [
            "AND: {'Actor2'}\n",
            "OR: {'Actor1', 'Actor3', 'Actor2'}\n",
            "XOR: {'Actor1', 'Actor3'}\n"
          ]
        }
      ]
    },
    {
      "cell_type": "code",
      "source": [
        "#26.WordCompletion: Simple word completion.\n",
        "words = [\"apple\", \"apply\", \"banana\", \"ball\"]\n",
        "start = input(\"Start of word: \")\n",
        "\n",
        "for word in words:\n",
        "    if word.startswith(start):\n",
        "        print(word)\n"
      ],
      "metadata": {
        "colab": {
          "base_uri": "https://localhost:8080/"
        },
        "id": "tipGFszjPel3",
        "outputId": "0c12f5b6-cf46-49a3-98b3-468714483f9a"
      },
      "execution_count": null,
      "outputs": [
        {
          "output_type": "stream",
          "name": "stdout",
          "text": [
            "Start of word: a\n",
            "apple\n",
            "apply\n"
          ]
        }
      ]
    },
    {
      "cell_type": "code",
      "source": [
        "#27.Poverty: Use US Census county data for MI to answer queries such as what is the poverty rate for children in a particular county\n",
        "poverty_data = {\"Wayne\": 25.3, \"Oakland\": 15.1}\n",
        "county = input(\"Enter county name: \")\n",
        "print(\"Poverty rate:\", poverty_data.get(county, \"Not found\"))\n"
      ],
      "metadata": {
        "colab": {
          "base_uri": "https://localhost:8080/"
        },
        "id": "QnePDqtvPoZC",
        "outputId": "698d9768-82b0-486e-f113-236d63841a09"
      },
      "execution_count": null,
      "outputs": [
        {
          "output_type": "stream",
          "name": "stdout",
          "text": [
            "Enter county name: Wayne\n",
            "Poverty rate: 25.3\n"
          ]
        }
      ]
    },
    {
      "cell_type": "code",
      "source": [
        "#28. 1. Adjacency - Minimum TAs to Cover Rooms\n",
        "class RoomGraph:\n",
        "    def __init__(self, graph):\n",
        "        self.graph = graph\n",
        "        self.covered = set()\n",
        "        self.tas = []\n",
        "\n",
        "    def assign_tas(self):\n",
        "        while len(self.covered) < len(self.graph):\n",
        "            best = max(self.graph.items(), key=lambda x: len(set(x[1]) | {x[0]} - self.covered))[0]\n",
        "            self.tas.append(best)\n",
        "            self.covered.update([best] + self.graph[best])\n",
        "        return self.tas\n",
        "\n",
        "# Example usage\n",
        "rooms = {\n",
        "    'A': ['B', 'C'],\n",
        "    'B': ['A', 'D'],\n",
        "    'C': ['A'],\n",
        "    'D': ['B', 'E'],\n",
        "    'E': ['D']\n",
        "}\n",
        "g = RoomGraph(rooms)\n",
        "print(\"Rooms with TAs:\", g.assign_tas())\n",
        "\n",
        "\n"
      ],
      "metadata": {
        "id": "ZkbPVjQeP1Ux",
        "colab": {
          "base_uri": "https://localhost:8080/"
        },
        "outputId": "3d4762d2-b6d0-4b12-c1fa-38776bea898b"
      },
      "execution_count": null,
      "outputs": [
        {
          "output_type": "stream",
          "name": "stdout",
          "text": [
            "Rooms with TAs: ['A', 'D']\n"
          ]
        }
      ]
    },
    {
      "cell_type": "code",
      "source": [
        "# 29. Currency - Simple Currency Converter\n",
        "class CurrencyConverter:\n",
        "    def __init__(self, rates):\n",
        "        self.rates = rates  # {'USD': 1.0, 'INR': 83.0, ...}\n",
        "\n",
        "    def convert(self, amount, from_currency, to_currency):\n",
        "        if from_currency not in self.rates or to_currency not in self.rates:\n",
        "            return None\n",
        "        usd = amount / self.rates[from_currency]                            #done\n",
        "        return round(usd * self.rates[to_currency], 2)\n",
        "\n",
        "# Example usage\n",
        "rates = {'USD': 1.0, 'INR': 83.0, 'EUR': 0.91}\n",
        "c = CurrencyConverter(rates)\n",
        "print(\"100 USD to INR:\", c.convert(100, 'USD', 'INR'))\n",
        "print(\"100 INR to EUR:\", c.convert(100, 'INR', 'EUR'))\n"
      ],
      "metadata": {
        "colab": {
          "base_uri": "https://localhost:8080/"
        },
        "id": "F2bx4nqhNTVi",
        "outputId": "f8847787-d3e2-4abe-f4b3-c67a716f2410"
      },
      "execution_count": null,
      "outputs": [
        {
          "output_type": "stream",
          "name": "stdout",
          "text": [
            "100 USD to INR: 8300.0\n",
            "100 INR to EUR: 1.1\n"
          ]
        }
      ]
    },
    {
      "cell_type": "code",
      "source": [
        "# 30. GoogleMap (Simulated) - Route Finder\n",
        "class RouteFinder:\n",
        "    def __init__(self, routes):\n",
        "        self.routes = routes\n",
        "\n",
        "    def get_route(self, start, end):\n",
        "        return self.routes.get((start, end), \"No direct route available\")\n",
        "\n",
        "# Example usage\n",
        "routes = {\n",
        "    ('New York', 'Boston'): 'I-90 East',\n",
        "    ('San Francisco', 'Los Angeles'): 'US-101 South'\n",
        "}\n",
        "map = RouteFinder(routes)\n",
        "print(\"Route from NY to Boston:\", map.get_route('New York', 'Boston'))\n",
        "print(\"Route from NY to LA:\", map.get_route('New York', 'Los Angeles'))\n"
      ],
      "metadata": {
        "colab": {
          "base_uri": "https://localhost:8080/"
        },
        "id": "ih7d2DC5NamV",
        "outputId": "91dc9604-e1d5-44ee-d885-e3159e2bf6ba"
      },
      "execution_count": null,
      "outputs": [
        {
          "output_type": "stream",
          "name": "stdout",
          "text": [
            "Route from NY to Boston: I-90 East\n",
            "Route from NY to LA: No direct route available\n"
          ]
        }
      ]
    },
    {
      "cell_type": "code",
      "source": [
        "#31 Quadrilaterals — Given an Outline of a Class, Fill in the Details\n",
        "class Quadrilateral:\n",
        "    def __init__(self, side1, side2, side3, side4):\n",
        "        self.side1 = side1\n",
        "        self.side2 = side2\n",
        "        self.side3 = side3\n",
        "        self.side4 = side4\n",
        "\n",
        "    def perimeter(self):\n",
        "        return self.side1 + self.side2 + self.side3 + self.side4\n",
        "\n",
        "    def area(self):\n",
        "        # Placeholder area calculation for simplicity; specific shapes need more detail\n",
        "        return \"Area calculation for general quadrilateral requires more data.\"\n",
        "\n",
        "# Example usage\n",
        "q = Quadrilateral(5, 7, 5, 7)\n",
        "print(\"Perimeter:\", q.perimeter())\n",
        "print(\"Area:\", q.area())\n"
      ],
      "metadata": {
        "colab": {
          "base_uri": "https://localhost:8080/"
        },
        "id": "rf2IXQImPpV5",
        "outputId": "e378050c-60e6-454e-e250-54c20b6b9a1b"
      },
      "execution_count": null,
      "outputs": [
        {
          "output_type": "stream",
          "name": "stdout",
          "text": [
            "Perimeter: 24\n",
            "Area: Area calculation for general quadrilateral requires more data.\n"
          ]
        }
      ]
    },
    {
      "cell_type": "code",
      "source": [
        "#32 YouTube — Design Classes to Support Using the Google API to Make Queries on YouTube\n",
        "class YouTubeAPI:\n",
        "    def __init__(self):\n",
        "        self.api_key = \"YOUR_API_KEY\"  # Simulated API key\n",
        "\n",
        "    def search_video(self, query):\n",
        "        # This simulates returning a list of video titles\n",
        "        return [f\"Video 1 related to {query}\", f\"Video 2 related to {query}\"]\n",
        "\n",
        "    def get_video_details(self, video_id):\n",
        "        # Simulates returning details of a specific video\n",
        "        return {\"title\": f\"Video {video_id}\", \"views\": 1000, \"likes\": 500}\n",
        "\n",
        "# Example usage\n",
        "youtube = YouTubeAPI()\n",
        "print(\"Search results:\", youtube.search_video(\"Python tutorials\"))\n",
        "print(\"Video details:\", youtube.get_video_details(1))\n"
      ],
      "metadata": {
        "colab": {
          "base_uri": "https://localhost:8080/"
        },
        "id": "EeHf5D-zPtlO",
        "outputId": "9594ba2c-9698-4a3f-e51a-0caa29dcb365"
      },
      "execution_count": null,
      "outputs": [
        {
          "output_type": "stream",
          "name": "stdout",
          "text": [
            "Search results: ['Video 1 related to Python tutorials', 'Video 2 related to Python tutorials']\n",
            "Video details: {'title': 'Video 1', 'views': 1000, 'likes': 500}\n"
          ]
        }
      ]
    },
    {
      "cell_type": "code",
      "source": [
        "#33 Triangles — Given an Outline of a Class, Fill in the Details\n",
        "import math\n",
        "\n",
        "class Triangle:\n",
        "    def __init__(self, side1, side2, side3):\n",
        "        self.side1 = side1\n",
        "        self.side2 = side2\n",
        "        self.side3 = side3\n",
        "\n",
        "    def perimeter(self):\n",
        "        return self.side1 + self.side2 + self.side3\n",
        "\n",
        "    def area(self):\n",
        "        # Using Heron's formula to calculate area\n",
        "        s = self.perimeter() / 2\n",
        "        return math.sqrt(s * (s - self.side1) * (s - self.side2) * (s - self.side3))\n",
        "\n",
        "# Example usage\n",
        "t = Triangle(3, 4, 5)\n",
        "print(\"Perimeter:\", t.perimeter())\n",
        "print(\"Area:\", t.area())\n"
      ],
      "metadata": {
        "colab": {
          "base_uri": "https://localhost:8080/"
        },
        "id": "nqYY6yCRP726",
        "outputId": "21e65a55-0ab0-4504-9494-c0f82480205f"
      },
      "execution_count": null,
      "outputs": [
        {
          "output_type": "stream",
          "name": "stdout",
          "text": [
            "Perimeter: 12\n",
            "Area: 6.0\n"
          ]
        }
      ]
    },
    {
      "cell_type": "code",
      "source": [
        "#34 Elevator Simulator — Three Classes (Building, Elevator, and Customer)\n",
        "class Elevator:\n",
        "    def __init__(self, current_floor=1):\n",
        "        self.current_floor = current_floor\n",
        "\n",
        "    def move(self, target_floor):\n",
        "        print(f\"Moving elevator from floor {self.current_floor} to {target_floor}\")\n",
        "        self.current_floor = target_floor\n",
        "\n",
        "class Customer:\n",
        "    def __init__(self, name, start_floor):\n",
        "        self.name = name\n",
        "        self.start_floor = start_floor\n",
        "\n",
        "    def request_elevator(self, elevator, target_floor):\n",
        "        print(f\"{self.name} is requesting the elevator from floor {self.start_floor} to {target_floor}.\")\n",
        "        elevator.move(target_floor)\n",
        "\n",
        "class Building:\n",
        "    def __init__(self, num_floors):\n",
        "        self.num_floors = num_floors\n",
        "        self.elevator = Elevator()\n",
        "\n",
        "    def serve_customer(self, customer, target_floor):\n",
        "        customer.request_elevator(self.elevator, target_floor)\n",
        "\n",
        "# Example usage\n",
        "building = Building(5)\n",
        "customer = Customer(\"Alice\", 1)\n",
        "building.serve_customer(customer, 4)\n"
      ],
      "metadata": {
        "colab": {
          "base_uri": "https://localhost:8080/"
        },
        "id": "GzRymCvrQG0d",
        "outputId": "8c7d5ba8-3aec-493e-d972-884e868c1141"
      },
      "execution_count": null,
      "outputs": [
        {
          "output_type": "stream",
          "name": "stdout",
          "text": [
            "Alice is requesting the elevator from floor 1 to 4.\n",
            "Moving elevator from floor 1 to 4\n"
          ]
        }
      ]
    },
    {
      "cell_type": "code",
      "source": [
        "#35 Game of Life — Create a Class for the Game\n",
        "class GameOfLife:\n",
        "    def __init__(self, grid):\n",
        "        self.grid = grid\n",
        "        self.rows = len(grid)\n",
        "        self.cols = len(grid[0])\n",
        "\n",
        "    def get_neighbors(self, x, y):\n",
        "        directions = [(-1, -1), (-1, 0), (-1, 1), (0, -1),\n",
        "                      (0, 1), (1, -1), (1, 0), (1, 1)]\n",
        "        count = 0\n",
        "        for dx, dy in directions:\n",
        "            nx, ny = x + dx, y + dy\n",
        "            if 0 <= nx < self.rows and 0 <= ny < self.cols:\n",
        "                count += self.grid[nx][ny]\n",
        "        return count\n",
        "\n",
        "    def step(self):\n",
        "        new_grid = [[0]*self.cols for _ in range(self.rows)]\n",
        "        for i in range(self.rows):\n",
        "            for j in range(self.cols):\n",
        "                neighbors = self.get_neighbors(i, j)\n",
        "                if self.grid[i][j] == 1 and neighbors in [2, 3]:\n",
        "                    new_grid[i][j] = 1\n",
        "                elif self.grid[i][j] == 0 and neighbors == 3:\n",
        "                    new_grid[i][j] = 1\n",
        "        self.grid = new_grid\n",
        "\n",
        "    def print_grid(self):\n",
        "        for row in self.grid:\n",
        "            print(\" \".join(str(cell) for cell in row))\n",
        "\n",
        "# Example usage\n",
        "game = GameOfLife([[0, 1, 0], [0, 1, 0], [0, 1, 0]])\n",
        "game.print_grid()\n",
        "print(\"Next generation:\")\n",
        "game.step()\n",
        "game.print_grid()\n",
        "\n"
      ],
      "metadata": {
        "colab": {
          "base_uri": "https://localhost:8080/"
        },
        "id": "ouuFA8mGQs7L",
        "outputId": "52318165-dc4c-4576-95e1-a5143f5fcc74"
      },
      "execution_count": null,
      "outputs": [
        {
          "output_type": "stream",
          "name": "stdout",
          "text": [
            "0 1 0\n",
            "0 1 0\n",
            "0 1 0\n",
            "Next generation:\n",
            "0 0 0\n",
            "1 1 1\n",
            "0 0 0\n"
          ]
        }
      ]
    },
    {
      "cell_type": "code",
      "source": [
        "#36 Traveler’s Dilemma — Strategy and Class with Exception\n",
        "class InvalidBidError(Exception):\n",
        "    pass\n",
        "\n",
        "class Player:\n",
        "    def __init__(self, name):\n",
        "        self.name = name\n",
        "\n",
        "    def bid(self):\n",
        "        return int(input(f\"{self.name}, enter your bid (2-100): \"))\n",
        "\n",
        "def play_game(p1, p2):\n",
        "    try:\n",
        "        bid1 = p1.bid()\n",
        "        bid2 = p2.bid()\n",
        "\n",
        "        if not (2 <= bid1 <= 100) or not (2 <= bid2 <= 100):\n",
        "            raise InvalidBidError(\"Bids must be between 2 and 100\")\n",
        "\n",
        "        if bid1 < bid2:\n",
        "            return f\"{p1.name} wins with bid {bid1}\"\n",
        "        elif bid2 < bid1:\n",
        "            return f\"{p2.name} wins with bid {bid2}\"\n",
        "        else:\n",
        "            return \"It's a tie!\"\n",
        "    except InvalidBidError as e:\n",
        "        return str(e)\n",
        "\n",
        "# Example\n",
        "p1 = Player(\"Alice\")\n",
        "p2 = Player(\"Bob\")\n",
        "print(play_game(p1, p2))\n"
      ],
      "metadata": {
        "colab": {
          "base_uri": "https://localhost:8080/"
        },
        "id": "l3b8GTL4RKuD",
        "outputId": "af7eb85d-f33c-45bd-8c2a-cf0b3908b926"
      },
      "execution_count": null,
      "outputs": [
        {
          "output_type": "stream",
          "name": "stdout",
          "text": [
            "Alice, enter your bid (2-100):   40\n",
            "Bob, enter your bid (2-100):  20\n",
            "Bob wins with bid 20\n"
          ]
        }
      ]
    },
    {
      "cell_type": "code",
      "source": [
        "#37 Dilbert’s Carpet Fishing — Fun Class Game\n",
        "import random\n",
        "\n",
        "class CarpetFishGame:\n",
        "    def __init__(self):\n",
        "        self.positions = [\"paperclip\", \"rubber band\", \"coin\", \"nothing\"]\n",
        "\n",
        "    def cast(self):\n",
        "        result = random.choice(self.positions)\n",
        "        print(f\"You fished out: {result}\")\n",
        "        return result\n",
        "\n",
        "# Example\n",
        "game = CarpetFishGame()\n",
        "game.cast()\n"
      ],
      "metadata": {
        "colab": {
          "base_uri": "https://localhost:8080/",
          "height": 53
        },
        "id": "TNkABvGcRcIh",
        "outputId": "82d4ad49-aae6-4c06-9796-b93a1a70d3a2"
      },
      "execution_count": null,
      "outputs": [
        {
          "output_type": "stream",
          "name": "stdout",
          "text": [
            "You fished out: coin\n"
          ]
        },
        {
          "output_type": "execute_result",
          "data": {
            "text/plain": [
              "'coin'"
            ],
            "application/vnd.google.colaboratory.intrinsic+json": {
              "type": "string"
            }
          },
          "metadata": {},
          "execution_count": 19
        }
      ]
    },
    {
      "cell_type": "code",
      "source": [
        "#38 Dating Service — Matching Based on Interests\n",
        "class Person:\n",
        "    def __init__(self, name, interests):\n",
        "        self.name = name\n",
        "        self.interests = set(interests)\n",
        "\n",
        "class DatingService:\n",
        "    def match(self, p1, p2):\n",
        "        common = p1.interests & p2.interests\n",
        "        return len(common)\n",
        "\n",
        "# Example\n",
        "alice = Person(\"Alice\", [\"music\", \"movies\", \"art\"])\n",
        "bob = Person(\"Bob\", [\"sports\", \"music\", \"travel\"])\n",
        "\n",
        "service = DatingService()\n",
        "print(\"Match score:\", service.match(alice, bob))\n"
      ],
      "metadata": {
        "colab": {
          "base_uri": "https://localhost:8080/"
        },
        "id": "TuNmuBb6Rvzt",
        "outputId": "b3625123-f405-4420-f028-2ce4046ea1e0"
      },
      "execution_count": null,
      "outputs": [
        {
          "output_type": "stream",
          "name": "stdout",
          "text": [
            "Match score: 1\n"
          ]
        }
      ]
    },
    {
      "cell_type": "code",
      "source": [
        "#39 Dominos — Simple Domino Game\n",
        "class Domino:\n",
        "    def __init__(self, left, right):\n",
        "        self.left = left\n",
        "        self.right = right\n",
        "\n",
        "    def is_match(self, other):\n",
        "        return self.right == other.left\n",
        "\n",
        "    def __str__(self):\n",
        "        return f\"[{self.left}|{self.right}]\"\n",
        "\n",
        "# Example\n",
        "d1 = Domino(3, 5)\n",
        "d2 = Domino(5, 2)\n",
        "print(d1, d2)\n",
        "print(\"Match?\" , d1.is_match(d2))\n"
      ],
      "metadata": {
        "colab": {
          "base_uri": "https://localhost:8080/"
        },
        "id": "RwIrL6R8R2Jy",
        "outputId": "39c4bdce-5569-4fb7-b07a-ddee112f5678"
      },
      "execution_count": null,
      "outputs": [
        {
          "output_type": "stream",
          "name": "stdout",
          "text": [
            "[3|5] [5|2]\n",
            "Match? True\n"
          ]
        }
      ]
    },
    {
      "cell_type": "code",
      "source": [
        "#40. Card and Deck classes (minimal version)\n",
        "\n",
        "import random\n",
        "\n",
        "class Card:\n",
        "    suits = ['Hearts', 'Diamonds', 'Clubs', 'Spades']\n",
        "    ranks = list(range(1, 14))  # 1 (Ace) to 13 (King)\n",
        "\n",
        "    def __init__(self, rank, suit):\n",
        "        self.rank = rank\n",
        "        self.suit = suit\n",
        "\n",
        "    def __str__(self):\n",
        "        rank_str = {1: 'A', 11: 'J', 12: 'Q', 13: 'K'}.get(self.rank, str(self.rank))\n",
        "        return f\"{rank_str} of {self.suit}\"\n",
        "\n",
        "    def __repr__(self):\n",
        "        return self.__str__()\n",
        "\n",
        "class Deck:\n",
        "    def __init__(self):\n",
        "        self.cards = [Card(rank, suit) for suit in Card.suits for rank in Card.ranks]\n",
        "        random.shuffle(self.cards)\n",
        "\n",
        "    def deal_card(self):\n",
        "        return self.cards.pop()\n",
        "\n",
        "    def cards_left(self):\n",
        "        return len(self.cards)\n"
      ],
      "metadata": {
        "id": "qixRBpTEFhsv"
      },
      "execution_count": null,
      "outputs": []
    },
    {
      "cell_type": "code",
      "source": [
        "#40  FreeCell\n",
        "class FreeCell:\n",
        "    def __init__(self, deck):\n",
        "        self.freecells = [None] * 4\n",
        "        self.homecells = {suit: [] for suit in Card.suits}\n",
        "        self.tableau = [[] for _ in range(8)]\n",
        "        self.deal(deck)\n",
        "\n",
        "    def deal(self, deck):\n",
        "        for i in range(52):\n",
        "            self.tableau[i % 8].append(deck.deal_card())\n",
        "\n",
        "    def move_to_freecell(self, card, index):\n",
        "        if self.freecells[index] is None:\n",
        "            self.freecells[index] = card\n",
        "\n",
        "    def move_to_homecell(self, card):\n",
        "        self.homecells[card.suit].append(card)\n",
        "\n",
        "    def move_tableau(self, from_col, to_col):\n",
        "        card = self.tableau[from_col].pop()\n",
        "        self.tableau[to_col].append(card)\n",
        "\n",
        "    def is_won(self):\n",
        "        return all(len(home) == 13 for home in self.homecells.values())\n",
        "\n",
        "# Test FreeCell\n",
        "deck = Deck()\n",
        "game = FreeCell(deck)\n",
        "print(\"Initial FreeCell Tableau:\")\n",
        "for i, col in enumerate(game.tableau):\n",
        "    print(f\"Column {i+1}:\", col)\n"
      ],
      "metadata": {
        "colab": {
          "base_uri": "https://localhost:8080/"
        },
        "id": "q3bOcfBpGEjq",
        "outputId": "75ab4d0a-cafb-481b-9aae-1fa4a6066ea8"
      },
      "execution_count": null,
      "outputs": [
        {
          "output_type": "stream",
          "name": "stdout",
          "text": [
            "Initial FreeCell Tableau:\n",
            "Column 1: [J of Hearts, 3 of Clubs, 4 of Hearts, Q of Diamonds, J of Clubs, 10 of Hearts, 9 of Diamonds]\n",
            "Column 2: [6 of Clubs, 3 of Spades, Q of Clubs, J of Diamonds, 9 of Clubs, 7 of Spades, 5 of Diamonds]\n",
            "Column 3: [6 of Spades, 4 of Clubs, 3 of Hearts, 2 of Diamonds, A of Clubs, 4 of Spades, A of Diamonds]\n",
            "Column 4: [10 of Diamonds, K of Hearts, 6 of Hearts, 2 of Clubs, 5 of Hearts, 8 of Spades, 3 of Diamonds]\n",
            "Column 5: [2 of Hearts, K of Diamonds, Q of Spades, 4 of Diamonds, 10 of Spades, 8 of Hearts]\n",
            "Column 6: [A of Spades, 8 of Clubs, 7 of Hearts, Q of Hearts, K of Spades, 9 of Spades]\n",
            "Column 7: [6 of Diamonds, 8 of Diamonds, 9 of Hearts, 2 of Spades, A of Hearts, 5 of Spades]\n",
            "Column 8: [J of Spades, K of Clubs, 7 of Clubs, 5 of Clubs, 7 of Diamonds, 10 of Clubs]\n"
          ]
        }
      ]
    },
    {
      "cell_type": "code",
      "source": [
        "#41.Canfield\n",
        "class Canfield:\n",
        "    def __init__(self, deck):\n",
        "        self.reserve = [deck.deal_card() for _ in range(13)]\n",
        "        self.stock = [deck.deal_card() for _ in range(34)]\n",
        "        self.foundation = {suit: [] for suit in Card.suits}\n",
        "        self.tableau = [[deck.deal_card()] for _ in range(4)]\n",
        "\n",
        "    def move_stock_to_tableau(self):\n",
        "        if self.stock:\n",
        "            self.tableau[0].append(self.stock.pop())\n",
        "\n",
        "    def move_to_foundation(self, card):\n",
        "        self.foundation[card.suit].append(card)\n",
        "\n",
        "    def move_tableau_card(self, from_col, to_col):\n",
        "        card = self.tableau[from_col].pop()\n",
        "        self.tableau[to_col].append(card)\n",
        "\n",
        "    def is_won(self):\n",
        "        return all(len(pile) == 13 for pile in self.foundation.values())\n",
        "\n",
        "# Test Canfield\n",
        "deck = Deck()\n",
        "game = Canfield(deck)\n",
        "print(\"Initial Canfield Tableau:\")\n",
        "for i, pile in enumerate(game.tableau):\n",
        "    print(f\"Pile {i+1}:\", pile)\n",
        "print(\"Reserve:\", game.reserve)\n",
        "print(\"Stock cards left:\", len(game.stock))\n"
      ],
      "metadata": {
        "colab": {
          "base_uri": "https://localhost:8080/"
        },
        "id": "G2XlCRybGVs4",
        "outputId": "c60c1a2c-d9fb-47cc-a9fd-00c50a01f101"
      },
      "execution_count": null,
      "outputs": [
        {
          "output_type": "stream",
          "name": "stdout",
          "text": [
            "Initial Canfield Tableau:\n",
            "Pile 1: [3 of Clubs]\n",
            "Pile 2: [8 of Hearts]\n",
            "Pile 3: [J of Diamonds]\n",
            "Pile 4: [5 of Clubs]\n",
            "Reserve: [10 of Spades, K of Hearts, 2 of Diamonds, A of Spades, 5 of Diamonds, 6 of Spades, 9 of Clubs, 3 of Diamonds, Q of Spades, J of Hearts, 4 of Hearts, J of Spades, 6 of Hearts]\n",
            "Stock cards left: 34\n"
          ]
        }
      ]
    },
    {
      "cell_type": "code",
      "source": [
        "#42. SeaHaven\n",
        "class SeaHaven:\n",
        "    def __init__(self, deck):\n",
        "        self.homecells = {suit: [] for suit in Card.suits}\n",
        "        self.tableau = [[] for _ in range(10)]\n",
        "        self.freecells = [None] * 4\n",
        "        self.deal(deck)\n",
        "\n",
        "    def deal(self, deck):\n",
        "        for _ in range(50):\n",
        "            self.tableau[_ % 10].append(deck.deal_card())\n",
        "\n",
        "    def move_to_homecell(self, card):\n",
        "        self.homecells[card.suit].append(card)\n",
        "\n",
        "    def move_tableau_card(self, from_col, to_col):\n",
        "        card = self.tableau[from_col].pop()\n",
        "        self.tableau[to_col].append(card)\n",
        "\n",
        "    def is_won(self):\n",
        "        return all(len(home) == 13 for home in self.homecells.values())\n",
        "\n",
        "# Test SeaHaven\n",
        "deck = Deck()\n",
        "game = SeaHaven(deck)\n",
        "print(\"Initial SeaHaven Tableau:\")\n",
        "for i, col in enumerate(game.tableau):\n",
        "    print(f\"Column {i+1}:\", col)\n"
      ],
      "metadata": {
        "colab": {
          "base_uri": "https://localhost:8080/"
        },
        "id": "FIMw0K5JGsgM",
        "outputId": "598f5e91-0b4d-430b-ae43-292a891f5168"
      },
      "execution_count": null,
      "outputs": [
        {
          "output_type": "stream",
          "name": "stdout",
          "text": [
            "Initial SeaHaven Tableau:\n",
            "Column 1: [7 of Spades, 2 of Diamonds, 4 of Spades, 5 of Spades, 10 of Diamonds]\n",
            "Column 2: [4 of Hearts, 3 of Hearts, 5 of Clubs, 2 of Hearts, 5 of Diamonds]\n",
            "Column 3: [8 of Spades, 3 of Clubs, J of Diamonds, 10 of Spades, 3 of Diamonds]\n",
            "Column 4: [A of Hearts, Q of Hearts, 7 of Clubs, J of Spades, Q of Clubs]\n",
            "Column 5: [J of Clubs, 8 of Diamonds, 3 of Spades, 8 of Clubs, J of Hearts]\n",
            "Column 6: [9 of Spades, 7 of Hearts, 9 of Hearts, K of Clubs, K of Spades]\n",
            "Column 7: [Q of Spades, Q of Diamonds, 7 of Diamonds, K of Diamonds, A of Diamonds]\n",
            "Column 8: [5 of Hearts, 9 of Diamonds, A of Spades, 4 of Diamonds, 9 of Clubs]\n",
            "Column 9: [2 of Spades, 10 of Hearts, 6 of Spades, A of Clubs, 6 of Diamonds]\n",
            "Column 10: [4 of Clubs, 2 of Clubs, 8 of Hearts, K of Hearts, 10 of Clubs]\n"
          ]
        }
      ]
    },
    {
      "cell_type": "code",
      "source": [
        "#43.TexasHoldM\n",
        "class TexasHoldM:\n",
        "    def __init__(self, deck):\n",
        "        self.players = [[] for _ in range(2)]  # Two players\n",
        "        self.community_cards = []\n",
        "        self.deck = deck\n",
        "        self.deal()\n",
        "\n",
        "    def deal(self):\n",
        "        for _ in range(2):\n",
        "            for player in self.players:\n",
        "                player.append(self.deck.deal_card())\n",
        "        for _ in range(5):\n",
        "            self.community_cards.append(self.deck.deal_card())\n",
        "\n",
        "    def show_hands(self):\n",
        "        for i, hand in enumerate(self.players):\n",
        "            print(f\"Player {i+1} hand: {hand}\")\n",
        "        print(f\"Community cards: {self.community_cards}\")\n",
        "\n",
        "# Test TexasHoldM\n",
        "deck = Deck()\n",
        "game = TexasHoldM(deck)\n",
        "game.show_hands()\n"
      ],
      "metadata": {
        "colab": {
          "base_uri": "https://localhost:8080/"
        },
        "id": "7MF2t19_GzG-",
        "outputId": "b12b119a-0d80-46d1-80db-5b9f7dcf2a7a"
      },
      "execution_count": null,
      "outputs": [
        {
          "output_type": "stream",
          "name": "stdout",
          "text": [
            "Player 1 hand: [8 of Diamonds, 4 of Spades]\n",
            "Player 2 hand: [Q of Diamonds, 2 of Diamonds]\n",
            "Community cards: [2 of Hearts, 9 of Diamonds, 7 of Hearts, A of Spades, 6 of Hearts]\n"
          ]
        }
      ]
    },
    {
      "cell_type": "code",
      "source": [
        "#44.TexasHoldM\n",
        "class TexasHoldM:\n",
        "    def __init__(self, deck):\n",
        "        self.players = [[] for _ in range(2)]  # Two players\n",
        "        self.community_cards = []\n",
        "        self.deck = deck\n",
        "        self.deal()\n",
        "\n",
        "    def deal(self):\n",
        "        for _ in range(2):\n",
        "            for player in self.players:\n",
        "                player.append(self.deck.deal_card())\n",
        "        for _ in range(5):\n",
        "            self.community_cards.append(self.deck.deal_card())\n",
        "\n",
        "    def show_hands(self):\n",
        "        for i, hand in enumerate(self.players):\n",
        "            print(f\"Player {i+1} hand: {hand}\")\n",
        "        print(f\"Community cards: {self.community_cards}\")\n",
        "\n",
        "# Test TexasHoldM\n",
        "deck = Deck()\n",
        "game = TexasHoldM(deck)\n",
        "game.show_hands()\n"
      ],
      "metadata": {
        "colab": {
          "base_uri": "https://localhost:8080/"
        },
        "id": "vLayU3_-G4Fn",
        "outputId": "b9e17164-974b-4dbc-fa96-e98ebb65cf93"
      },
      "execution_count": null,
      "outputs": [
        {
          "output_type": "stream",
          "name": "stdout",
          "text": [
            "Player 1 hand: [2 of Clubs, 8 of Spades]\n",
            "Player 2 hand: [10 of Diamonds, 6 of Spades]\n",
            "Community cards: [J of Diamonds, K of Diamonds, 8 of Hearts, 4 of Spades, 7 of Diamonds]\n"
          ]
        }
      ]
    },
    {
      "cell_type": "code",
      "source": [
        "#45. BlackJackSquare\n",
        "class BlackJackSquare:\n",
        "    def __init__(self, deck):\n",
        "        self.grid = [[None for _ in range(4)] for _ in range(4)]\n",
        "        self.deck = deck\n",
        "        self.fill_grid()\n",
        "\n",
        "    def fill_grid(self):\n",
        "        for row in range(4):\n",
        "            for col in range(4):\n",
        "                if self.deck.cards_left() > 0:\n",
        "                    self.grid[row][col] = self.deck.deal_card()\n",
        "\n",
        "    def row_score(self, row):\n",
        "        return sum(min(card.rank, 10) for card in self.grid[row])\n",
        "\n",
        "    def column_score(self, col):\n",
        "        return sum(min(self.grid[row][col].rank, 10) for row in range(4))\n",
        "\n",
        "    def total_score(self):\n",
        "        return sum(self.row_score(r) for r in range(4)) + sum(self.column_score(c) for c in range(4))\n",
        "\n",
        "# Test BlackJackSquare\n",
        "deck = Deck()\n",
        "game = BlackJackSquare(deck)\n",
        "print(\"Grid:\")\n",
        "for row in game.grid:\n",
        "    print(row)\n",
        "print(\"Total Blackjack Score:\", game.total_score())\n"
      ],
      "metadata": {
        "colab": {
          "base_uri": "https://localhost:8080/"
        },
        "id": "ri9yALdfH4Oh",
        "outputId": "88b5771c-6cd3-413c-b80c-4e4ad25c851d"
      },
      "execution_count": null,
      "outputs": [
        {
          "output_type": "stream",
          "name": "stdout",
          "text": [
            "Grid:\n",
            "[10 of Diamonds, 7 of Diamonds, 2 of Clubs, J of Hearts]\n",
            "[Q of Hearts, 6 of Spades, 5 of Hearts, 9 of Clubs]\n",
            "[5 of Diamonds, 3 of Diamonds, 6 of Hearts, Q of Spades]\n",
            "[10 of Clubs, 9 of Hearts, A of Clubs, A of Hearts]\n",
            "Total Blackjack Score: 208\n"
          ]
        }
      ]
    },
    {
      "cell_type": "code",
      "source": [
        "#46. EastHaven\n",
        "class EastHaven:\n",
        "    def __init__(self, deck):\n",
        "        self.stock = deck.cards  # all cards in stock initially\n",
        "        self.tableau = [[] for _ in range(7)]\n",
        "        self.deal_initial()\n",
        "\n",
        "    def deal_initial(self):\n",
        "        for i in range(7):\n",
        "            self.tableau[i].append(self.stock.pop())\n",
        "\n",
        "    def deal_from_stock(self):\n",
        "        for i in range(7):\n",
        "            if self.stock:\n",
        "                self.tableau[i].append(self.stock.pop())\n",
        "\n",
        "    def move_tableau(self, from_col, to_col):\n",
        "        card = self.tableau[from_col].pop()\n",
        "        self.tableau[to_col].append(card)\n",
        "\n",
        "# Test EastHaven\n",
        "deck = Deck()\n",
        "game = EastHaven(deck)\n",
        "print(\"Initial Tableau:\")\n",
        "for i, pile in enumerate(game.tableau):\n",
        "    print(f\"Column {i+1}:\", pile)\n",
        "print(\"Stock cards left:\", len(game.stock))\n"
      ],
      "metadata": {
        "colab": {
          "base_uri": "https://localhost:8080/"
        },
        "id": "YIq9pRhJII_A",
        "outputId": "c0d1e20b-1459-448c-a61a-4e19d5463c47"
      },
      "execution_count": null,
      "outputs": [
        {
          "output_type": "stream",
          "name": "stdout",
          "text": [
            "Initial Tableau:\n",
            "Column 1: [J of Hearts]\n",
            "Column 2: [9 of Hearts]\n",
            "Column 3: [4 of Clubs]\n",
            "Column 4: [K of Clubs]\n",
            "Column 5: [Q of Spades]\n",
            "Column 6: [8 of Spades]\n",
            "Column 7: [3 of Diamonds]\n",
            "Stock cards left: 45\n"
          ]
        }
      ]
    },
    {
      "cell_type": "code",
      "source": [
        "#47. Number Puzzle: Slayer\n",
        "#A basic check for a number-word puzzle.\n",
        "# Slayer: Find 5-digit number where each digit corresponds to a unique letter.\n",
        "# Example puzzle: S + L + A + Y + E + R = 5-digit number using unique digits\n",
        "\n",
        "from itertools import permutations\n",
        "\n",
        "def slayer_puzzle():\n",
        "    for perm in permutations(range(10), 6):\n",
        "        s, l, a, y, e, r = perm\n",
        "        number = s*10000 + l*1000 + a*100 + y*10 + e\n",
        "        if number % r == 0:\n",
        "            return f\"Solution: S={s}, L={l}, A={a}, Y={y}, E={e}, R={r}, Number={number}\"\n",
        "\n",
        "print(slayer_puzzle())\n"
      ],
      "metadata": {
        "id": "8gNKXTRFIRyh",
        "colab": {
          "base_uri": "https://localhost:8080/"
        },
        "outputId": "b8ad04af-8611-4828-a8c5-3e9f9c7d739a"
      },
      "execution_count": null,
      "outputs": [
        {
          "output_type": "stream",
          "name": "stdout",
          "text": [
            "Solution: S=0, L=1, A=2, Y=3, E=6, R=4, Number=1236\n"
          ]
        }
      ]
    },
    {
      "cell_type": "code",
      "source": [
        "#48. Garden\n",
        "#Calculate number of plants and mulch required.\n",
        "# Garden: Calculate planting layout and mulch needed\n",
        "length = 10  # meters\n",
        "width = 4    # meters\n",
        "plant_spacing = 0.5  # meters between plants\n",
        "\n",
        "area = length * width\n",
        "plants_per_row = int(length / plant_spacing)\n",
        "rows = int(width / plant_spacing)\n",
        "total_plants = plants_per_row * rows\n",
        "mulch_per_sq_meter = 2  # kg\n",
        "total_mulch = area * mulch_per_sq_meter\n",
        "\n",
        "print(\"Total plants:\", total_plants)\n",
        "print(\"Total mulch (kg):\", total_mulch)\n"
      ],
      "metadata": {
        "colab": {
          "base_uri": "https://localhost:8080/"
        },
        "id": "7isfzQj4lzwS",
        "outputId": "eded18b1-e5d8-4017-88ef-a3d940adf770"
      },
      "execution_count": null,
      "outputs": [
        {
          "output_type": "stream",
          "name": "stdout",
          "text": [
            "Total plants: 160\n",
            "Total mulch (kg): 80\n"
          ]
        }
      ]
    },
    {
      "cell_type": "code",
      "source": [
        "#49. Garden2\n",
        "#More specific mulch and cost calculation.\n",
        "length = 8\n",
        "width = 5\n",
        "mulch_depth = 0.05  # meters (5 cm)\n",
        "mulch_density = 600  # kg/m³\n",
        "mulch_price = 4  # per kg\n",
        "\n",
        "volume = length * width * mulch_depth\n",
        "weight = volume * mulch_density\n",
        "cost = weight * mulch_price\n",
        "\n",
        "print(\"Mulch volume (m³):\", round(volume, 2))\n",
        "print(\"Total mulch weight (kg):\", round(weight))\n",
        "print(\"Total cost ($):\", round(cost))\n"
      ],
      "metadata": {
        "colab": {
          "base_uri": "https://localhost:8080/"
        },
        "id": "0m_Q-aZ9mCK3",
        "outputId": "9f5f5e02-270d-4b95-c08b-632ef0091d16"
      },
      "execution_count": null,
      "outputs": [
        {
          "output_type": "stream",
          "name": "stdout",
          "text": [
            "Mulch volume (m³): 2.0\n",
            "Total mulch weight (kg): 1200\n",
            "Total cost ($): 4800\n"
          ]
        }
      ]
    },
    {
      "cell_type": "code",
      "source": [
        "# 50. Einstein Puzzle\n",
        "# Einstein puzzle: ABC = A + B + C\n",
        "for a in range(1, 10):\n",
        "    for b in range(10):\n",
        "        for c in range(10):\n",
        "            abc = 100*a + 10*b + c\n",
        "            if abc == a**3 + b**3 + c**3:\n",
        "                print(f\"Solution: {abc} = {a}³ + {b}³ + {c}³\")\n"
      ],
      "metadata": {
        "colab": {
          "base_uri": "https://localhost:8080/"
        },
        "id": "IMeHcQxHmN_u",
        "outputId": "fe9e25ef-9020-4fbf-8c32-1d0f7d880cf2"
      },
      "execution_count": null,
      "outputs": [
        {
          "output_type": "stream",
          "name": "stdout",
          "text": [
            "Solution: 153 = 1³ + 5³ + 3³\n",
            "Solution: 370 = 3³ + 7³ + 0³\n",
            "Solution: 371 = 3³ + 7³ + 1³\n",
            "Solution: 407 = 4³ + 0³ + 7³\n"
          ]
        }
      ]
    },
    {
      "cell_type": "code",
      "source": [
        "# 51. MacArthur Puzzle\n",
        "# MacArthur: Reverse digits and subtract gives same difference\n",
        "for i in range(100, 200):\n",
        "    s = str(i)\n",
        "    rev = int(s[::-1])\n",
        "    diff = abs(i - rev)\n",
        "    if diff == 297:\n",
        "        print(f\"{i} - {rev} = {diff}\")\n"
      ],
      "metadata": {
        "colab": {
          "base_uri": "https://localhost:8080/"
        },
        "id": "A6HJgPjQmUjA",
        "outputId": "0d3b07d2-d256-456a-a0ee-43a2e8fcd410"
      },
      "execution_count": null,
      "outputs": [
        {
          "output_type": "stream",
          "name": "stdout",
          "text": [
            "104 - 401 = 297\n",
            "114 - 411 = 297\n",
            "124 - 421 = 297\n",
            "134 - 431 = 297\n",
            "144 - 441 = 297\n",
            "154 - 451 = 297\n",
            "164 - 461 = 297\n",
            "174 - 471 = 297\n",
            "184 - 481 = 297\n",
            "194 - 491 = 297\n"
          ]
        }
      ]
    },
    {
      "cell_type": "code",
      "source": [
        "#52. Tones\n",
        "# Calculate tone frequencies for 12-tone equal temperament scale\n",
        "import math\n",
        "\n",
        "base = 440.0  # A4\n",
        "for n in range(-9, 3):  # From C4 to B4\n",
        "    freq = base * (2 ** (n / 12))\n",
        "    print(f\"Note {n+10}: {round(freq, 2)} Hz\")\n"
      ],
      "metadata": {
        "colab": {
          "base_uri": "https://localhost:8080/"
        },
        "id": "EQzDmmSumow8",
        "outputId": "0a97be18-420e-445d-f119-fa4d04555b8b"
      },
      "execution_count": null,
      "outputs": [
        {
          "output_type": "stream",
          "name": "stdout",
          "text": [
            "Note 1: 261.63 Hz\n",
            "Note 2: 277.18 Hz\n",
            "Note 3: 293.66 Hz\n",
            "Note 4: 311.13 Hz\n",
            "Note 5: 329.63 Hz\n",
            "Note 6: 349.23 Hz\n",
            "Note 7: 369.99 Hz\n",
            "Note 8: 392.0 Hz\n",
            "Note 9: 415.3 Hz\n",
            "Note 10: 440.0 Hz\n",
            "Note 11: 466.16 Hz\n",
            "Note 12: 493.88 Hz\n"
          ]
        }
      ]
    },
    {
      "cell_type": "code",
      "source": [
        "# 53. NinetyNine (Simple Game)\n",
        "import random\n",
        "\n",
        "target = 99\n",
        "score = 0\n",
        "\n",
        "while score < target:\n",
        "    play = random.randint(1, 10)\n",
        "    score += play\n",
        "    print(f\"Played: {play}, Score: {score}\")\n",
        "\n",
        "    if score == target:\n",
        "        print(\"You win!\")\n",
        "        break\n",
        "    elif score > target:\n",
        "        print(\"Bust! Over 99.\")\n",
        "        break\n"
      ],
      "metadata": {
        "colab": {
          "base_uri": "https://localhost:8080/"
        },
        "id": "p3oHavSHm-R2",
        "outputId": "b37afe66-3072-4f7e-e846-319e8aaf41e5"
      },
      "execution_count": null,
      "outputs": [
        {
          "output_type": "stream",
          "name": "stdout",
          "text": [
            "Played: 4, Score: 4\n",
            "Played: 5, Score: 9\n",
            "Played: 10, Score: 19\n",
            "Played: 8, Score: 27\n",
            "Played: 6, Score: 33\n",
            "Played: 4, Score: 37\n",
            "Played: 6, Score: 43\n",
            "Played: 9, Score: 52\n",
            "Played: 8, Score: 60\n",
            "Played: 8, Score: 68\n",
            "Played: 8, Score: 76\n",
            "Played: 3, Score: 79\n",
            "Played: 4, Score: 83\n",
            "Played: 8, Score: 91\n",
            "Played: 5, Score: 96\n",
            "Played: 9, Score: 105\n",
            "Bust! Over 99.\n"
          ]
        }
      ]
    },
    {
      "cell_type": "code",
      "source": [
        "#54. Trig: Implement basic trigonometric functions using power series\n",
        "import math\n",
        "\n",
        "def factorial(n):\n",
        "    return 1 if n == 0 else n * factorial(n - 1)\n",
        "\n",
        "def sine(x, terms=10):\n",
        "    x = x % (2 * math.pi)\n",
        "    result = 0\n",
        "    for n in range(terms):\n",
        "        result += ((-1)**n * x**(2*n + 1)) / factorial(2*n + 1)\n",
        "    return result\n",
        "\n",
        "def cosine(x, terms=10):\n",
        "    x = x % (2 * math.pi)\n",
        "    result = 0\n",
        "    for n in range(terms):\n",
        "        result += ((-1)**n * x**(2*n)) / factorial(2*n)\n",
        "    return result\n",
        "\n",
        "# Example\n",
        "angle = math.radians(30)\n",
        "print(\"sin(30°):\", sine(angle))\n",
        "print(\"cos(30°):\", cosine(angle))\n"
      ],
      "metadata": {
        "id": "gIKERJU-nK71",
        "colab": {
          "base_uri": "https://localhost:8080/"
        },
        "outputId": "ce33e4f6-5498-459f-ada6-6773810b3f29"
      },
      "execution_count": null,
      "outputs": [
        {
          "output_type": "stream",
          "name": "stdout",
          "text": [
            "sin(30°): 0.49999999999999994\n",
            "cos(30°): 0.8660254037844386\n"
          ]
        }
      ]
    },
    {
      "cell_type": "code",
      "source": [
        "#55.  LatinSquares: Input order and start. Build a Latin square\n",
        "def latin_square(order, start):\n",
        "    square = []\n",
        "    for i in range(order):\n",
        "        row = [(start + (i + j) % order) for j in range(order)]\n",
        "        square.append(row)\n",
        "    return square\n",
        "\n",
        "# Example\n",
        "order = 4\n",
        "start = 1\n",
        "square = latin_square(order, start)\n",
        "for row in square:\n",
        "    print(row)\n"
      ],
      "metadata": {
        "colab": {
          "base_uri": "https://localhost:8080/"
        },
        "id": "6bgGzW2Yv6cA",
        "outputId": "8b354214-e8e7-47e7-f627-6cf42d7a5009"
      },
      "execution_count": null,
      "outputs": [
        {
          "output_type": "stream",
          "name": "stdout",
          "text": [
            "[1, 2, 3, 4]\n",
            "[2, 3, 4, 1]\n",
            "[3, 4, 1, 2]\n",
            "[4, 1, 2, 3]\n"
          ]
        }
      ]
    },
    {
      "cell_type": "code",
      "source": [
        "#56.Number Theory: Persistence (Additive)\n",
        "def additive_persistence(n):\n",
        "    count = 0\n",
        "    while n >= 10:\n",
        "        n = sum(int(d) for d in str(n))\n",
        "        count += 1\n",
        "    return count\n",
        "\n",
        "# Example\n",
        "print(\"Additive persistence of 9876:\", additive_persistence(9876))\n",
        "\n",
        "\n"
      ],
      "metadata": {
        "colab": {
          "base_uri": "https://localhost:8080/"
        },
        "id": "M8_fuP-vwCTD",
        "outputId": "ce942836-50a2-4aeb-8f76-b01cf9749c12"
      },
      "execution_count": null,
      "outputs": [
        {
          "output_type": "stream",
          "name": "stdout",
          "text": [
            "Additive persistence of 9876: 2\n"
          ]
        }
      ]
    },
    {
      "cell_type": "code",
      "source": [
        "#57. Number Theory: Pologinal (Triangular numbers that form a square)\n",
        "def triangular(n):\n",
        "    return n * (n + 1) // 2\n",
        "\n",
        "def pologinal(square_limit):\n",
        "    results = []\n",
        "    for i in range(1, square_limit):\n",
        "        for j in range(i, square_limit):\n",
        "            t1 = triangular(i)\n",
        "            t2 = triangular(j)\n",
        "            if t1 + t2 == int((t1 + t2) ** 0.5) ** 2:\n",
        "                results.append((i, j, t1, t2, t1 + t2))\n",
        "    return results\n",
        "\n",
        "# Example\n",
        "print(\"Triangular pairs forming square numbers:\")\n",
        "for pair in pologinal(30):\n",
        "    print(pair)\n"
      ],
      "metadata": {
        "colab": {
          "base_uri": "https://localhost:8080/"
        },
        "id": "AT6OGYTewLah",
        "outputId": "2276a2db-b20c-426d-92f2-2fc1e2b90e56"
      },
      "execution_count": null,
      "outputs": [
        {
          "output_type": "stream",
          "name": "stdout",
          "text": [
            "Triangular pairs forming square numbers:\n",
            "(1, 2, 1, 3, 4)\n",
            "(1, 5, 1, 15, 16)\n",
            "(1, 15, 1, 120, 121)\n",
            "(2, 3, 3, 6, 9)\n",
            "(2, 12, 3, 78, 81)\n",
            "(2, 22, 3, 253, 256)\n",
            "(3, 4, 6, 10, 16)\n",
            "(3, 19, 6, 190, 196)\n",
            "(3, 29, 6, 435, 441)\n",
            "(4, 5, 10, 15, 25)\n",
            "(4, 26, 10, 351, 361)\n",
            "(5, 6, 15, 21, 36)\n",
            "(5, 11, 15, 66, 81)\n",
            "(5, 20, 15, 210, 225)\n",
            "(6, 7, 21, 28, 49)\n",
            "(7, 8, 28, 36, 64)\n",
            "(8, 9, 36, 45, 81)\n",
            "(8, 22, 36, 253, 289)\n",
            "(8, 25, 36, 325, 361)\n",
            "(9, 10, 45, 55, 100)\n",
            "(10, 11, 55, 66, 121)\n",
            "(11, 12, 66, 78, 144)\n",
            "(11, 19, 66, 190, 256)\n",
            "(12, 13, 78, 91, 169)\n",
            "(12, 28, 78, 406, 484)\n",
            "(13, 14, 91, 105, 196)\n",
            "(14, 15, 105, 120, 225)\n",
            "(15, 16, 120, 136, 256)\n",
            "(16, 17, 136, 153, 289)\n",
            "(17, 18, 153, 171, 324)\n",
            "(18, 19, 171, 190, 361)\n",
            "(19, 20, 190, 210, 400)\n",
            "(19, 29, 190, 435, 625)\n",
            "(20, 21, 210, 231, 441)\n",
            "(21, 22, 231, 253, 484)\n",
            "(22, 23, 253, 276, 529)\n",
            "(23, 24, 276, 300, 576)\n",
            "(24, 25, 300, 325, 625)\n",
            "(25, 26, 325, 351, 676)\n",
            "(26, 27, 351, 378, 729)\n",
            "(27, 28, 378, 406, 784)\n",
            "(28, 29, 406, 435, 841)\n"
          ]
        }
      ]
    },
    {
      "cell_type": "code",
      "source": [
        "#58.Ancient Egyptian Multiplication: Weird Multiplication\n",
        "def egyptian_multiply(a, b):\n",
        "    result = 0\n",
        "    while b > 0:\n",
        "        if b % 2 != 0:\n",
        "            result += a\n",
        "        a *= 2\n",
        "        b //= 2\n",
        "    return result\n",
        "\n",
        "# Example\n",
        "print(\"Egyptian Multiplication 14 * 12:\", egyptian_multiply(14, 12))\n"
      ],
      "metadata": {
        "colab": {
          "base_uri": "https://localhost:8080/"
        },
        "id": "lQneoPvjwWyM",
        "outputId": "bb4d2533-2bc6-4778-da85-e6bab6fad83b"
      },
      "execution_count": null,
      "outputs": [
        {
          "output_type": "stream",
          "name": "stdout",
          "text": [
            "Egyptian Multiplication 14 * 12: 168\n"
          ]
        }
      ]
    },
    {
      "cell_type": "code",
      "source": [
        "#59.Calculator: Basic arithmetic calculator\n",
        "def basic_calculator(expression):\n",
        "    tokens = expression.split()\n",
        "    if len(tokens) != 3:\n",
        "        return \"Invalid input format\"\n",
        "    a, op, b = tokens\n",
        "    a, b = float(a), float(b)\n",
        "\n",
        "    if op == '+':\n",
        "        return a + b\n",
        "    elif op == '-':\n",
        "        return a - b\n",
        "    elif op == '*':\n",
        "        return a * b\n",
        "    elif op == '/':\n",
        "        return a / b if b != 0 else \"Division by zero\"\n",
        "    else:\n",
        "        return \"Unknown operator\"\n",
        "\n",
        "# Example\n",
        "print(\"3 + 4 =\", basic_calculator(\"3 + 4\"))\n"
      ],
      "metadata": {
        "colab": {
          "base_uri": "https://localhost:8080/"
        },
        "id": "Af61UtTowgse",
        "outputId": "0a4fb2d4-19ad-4f4b-84f4-83e2e6bdab56"
      },
      "execution_count": null,
      "outputs": [
        {
          "output_type": "stream",
          "name": "stdout",
          "text": [
            "3 + 4 = 7.0\n"
          ]
        }
      ]
    },
    {
      "cell_type": "code",
      "source": [
        "#60. Bank File Processing: Read and keep a ledger\n",
        "# Step 1: Create a sample bank transaction file\n",
        "with open(\"transactions.txt\", \"w\") as file:\n",
        "    file.write(\"deposit 100\\n\")\n",
        "    file.write(\"withdraw 20\\n\")\n",
        "    file.write(\"deposit 50\\n\")\n",
        "\n",
        "# Step 2: Define the processing function\n",
        "def process_bank_file(filename):\n",
        "    balance = 0\n",
        "    with open(filename) as file:\n",
        "        for line in file:\n",
        "            parts = line.strip().split()\n",
        "            if len(parts) != 2:\n",
        "                continue\n",
        "            action, amount = parts[0], float(parts[1])\n",
        "            if action == \"deposit\":\n",
        "                balance += amount\n",
        "            elif action == \"withdraw\":\n",
        "                balance -= amount\n",
        "    return balance\n",
        "\n",
        "# Step 3: Run the function and show output\n",
        "print(\"Final balance:\", process_bank_file(\"transactions.txt\"))\n",
        "\n"
      ],
      "metadata": {
        "id": "tz3_bLTEw-od"
      },
      "execution_count": null,
      "outputs": []
    },
    {
      "cell_type": "code",
      "source": [
        "#61 Sample file creation (only for demonstration — skip this if you already have a file)\n",
        "with open(\"who_data.txt\", \"w\") as f:\n",
        "    f.write(\"Region: Africa, Vaccine: Measles, Coverage: 85%\\n\")\n",
        "    f.write(\"Region: Europe, Vaccine: Measles, Coverage: 93%\\n\")\n",
        "    f.write(\"Region: Africa, Vaccine: Polio, Coverage: 89%\\n\")\n",
        "    f.write(\"Region: Africa, Vaccine: Measles, Coverage: 87%\\n\")\n",
        "\n",
        "# Function to extract measles vaccination levels for Africa\n",
        "def get_measles_coverage_in_africa(filename):\n",
        "    coverage_list = []\n",
        "    with open(filename, 'r') as file:\n",
        "        for line in file:\n",
        "            if 'Region: Africa' in line and 'Vaccine: Measles' in line:\n",
        "                parts = line.strip().split(',')\n",
        "                for part in parts:\n",
        "                    if 'Coverage' in part:\n",
        "                        percent = part.split(':')[1].strip().replace('%', '')\n",
        "                        coverage_list.append(int(percent))\n",
        "    return coverage_list\n",
        "\n",
        "# Example usage\n",
        "coverages = get_measles_coverage_in_africa(\"who_data.txt\")\n",
        "if coverages:\n",
        "    print(\"Measles vaccination levels in Africa:\", coverages)\n",
        "    print(\"Average coverage:\", sum(coverages) / len(coverages), \"%\")\n",
        "else:\n",
        "    print(\"No measles vaccination data found for Africa.\")\n"
      ],
      "metadata": {
        "colab": {
          "base_uri": "https://localhost:8080/"
        },
        "id": "mC7yUykVwCw1",
        "outputId": "4345fb94-62df-4fa7-d8c1-6d90fe54a34e"
      },
      "execution_count": null,
      "outputs": [
        {
          "output_type": "stream",
          "name": "stdout",
          "text": [
            "Measles vaccination levels in Africa: [85, 87]\n",
            "Average coverage: 86.0 %\n"
          ]
        }
      ]
    }
  ]
}